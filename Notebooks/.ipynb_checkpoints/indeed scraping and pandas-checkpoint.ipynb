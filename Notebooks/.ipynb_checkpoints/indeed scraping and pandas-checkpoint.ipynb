{
 "cells": [
  {
   "cell_type": "markdown",
   "metadata": {
    "slideshow": {
     "slide_type": "slide"
    }
   },
   "source": [
    "# Scraping Jobs from Indeed.com and Using pandas for manipulation"
   ]
  },
  {
   "cell_type": "code",
   "execution_count": 1,
   "metadata": {},
   "outputs": [],
   "source": [
    "import requests\n",
    "from bs4 import BeautifulSoup\n",
    "import pandas as pd\n",
    "import seaborn as sns\n",
    "%matplotlib inline"
   ]
  },
  {
   "cell_type": "code",
   "execution_count": 2,
   "metadata": {
    "scrolled": true
   },
   "outputs": [],
   "source": [
    "class ScrapIndeedData():\n",
    "    \n",
    "    def __init__(self, job_name, location, max_results=10):\n",
    "        self.job_name = job_name\n",
    "        self.location = location\n",
    "        self.max_results = max_results\n",
    "        self.URL = \"https://www.indeed.com/jobs?q={}+&l={}&start=\".format(self.job_name, self.location)\n",
    "        self.page = [requests.get(self.URL + str(start)) for start in range(0, max_results, 10)]\n",
    "        self.soup = [BeautifulSoup(p.content, \"html.parser\") for p in self.page]\n",
    "        \n",
    "    def get_job_title(self, jobs=[]):\n",
    "        #find all div with class row in each page parsed in self.soup\n",
    "        divs = [d.find_all(name=\"div\", attrs={\"class\":\"row\"}) for d in self.soup]  \n",
    "        \n",
    "        #get the title(job title) in each div of each web page. \n",
    "        jobs = [a[\"title\"] for div in divs  for sub_div in div for a in sub_div.find_all(name=\"a\",attrs={\"data-tn-element\":\"jobTitle\"})]\n",
    "        \n",
    "        return(jobs)\n",
    "\n",
    "    def get_company_name(self, companies_names=[]): \n",
    "        # get the span that contains the names of the company \n",
    "        spans = [s.find_all(\"span\", attrs={\"class\":\"company\"}) for s in self.soup]\n",
    "        #extract the company name and take away white spaces on both sides\n",
    "        companies_names = [s.text.strip() for pg in spans for s in pg ]\n",
    "        return(companies_names)\n",
    "    \n",
    "    def get_company_location(self, locations = [] ):\n",
    "        #find all span with class location from each parsed web page\n",
    "        spans = [s.find_all(\"span\", attrs={\"class\": \"location\"}) for s in self.soup]\n",
    "        \n",
    "        #get the text (location) from each each span span extracted above\n",
    "        locations = [loc.text for span in spans for loc in span]\n",
    "        return(locations)\n",
    "    \n",
    "    def get_job_links(self, links=[]):\n",
    "        divs = [div for div in self.soup.find_all(name=\"div\", attrs={\"class\":\"row\"})]\n",
    "        links = [\"https:indeed.com\"+link.get('href') for d in divs for link in d.find_all(name=\"a\") if link != \"#\"]#,attrs={\"class\":\"turnstitleLink\"})]\n",
    "        return (links)\n",
    "    \n",
    "    def get_data_frame(self):\n",
    "        cn = self.get_company_name() #call get_company_name to provide the company names\n",
    "        jt = self.get_job_title() #call get_jb_title method to provide the job titles\n",
    "        loc = self.get_company_location() #call get_company_location to provide the company locations\n",
    "        \n",
    "        \n",
    "        info = {\"Company_Name\":pd.Series(cn,index=[i for i in range(1,len(cn) +1)]),\n",
    "                \"Job_Title\": pd.Series(jt,index=[i for i in range(1,len(jt) + 1 )]),\n",
    "                \"Location\": pd.Series(loc,index=[i for i in range(1,len(loc) +1)])}\n",
    "        return(pd.DataFrame(info))\n",
    "            \n",
    "\n",
    "test = ScrapIndeedData(\"data science\", \"iowa\",1000)"
   ]
  },
  {
   "cell_type": "markdown",
   "metadata": {
    "slideshow": {
     "slide_type": "slide"
    }
   },
   "source": [
    "#### Now that the scraper class is complete, you can call get_data_frame() to a get a dataframe of company names, job titles and locations. \n",
    "\n",
    "To do: \n",
    "* I will find the city with most jobs in Iowa base on these 750 jobs I scrapped.\n",
    "* The company with the most jobs with the same sample.\n",
    "* Do some data manipulation with pandas."
   ]
  },
  {
   "cell_type": "code",
   "execution_count": 3,
   "metadata": {
    "slideshow": {
     "slide_type": "slide"
    }
   },
   "outputs": [],
   "source": [
    "df = test.get_data_frame()\n",
    "# save data to a csv file \n",
    "df.to_csv(\"indeedjob.csv\")"
   ]
  },
  {
   "cell_type": "code",
   "execution_count": 4,
   "metadata": {
    "scrolled": false,
    "slideshow": {
     "slide_type": "slide"
    }
   },
   "outputs": [
    {
     "data": {
      "text/html": [
       "<div>\n",
       "<table border=\"1\" class=\"dataframe\">\n",
       "  <thead>\n",
       "    <tr style=\"text-align: right;\">\n",
       "      <th></th>\n",
       "      <th>Company_Name</th>\n",
       "      <th>Job_Title</th>\n",
       "      <th>Location</th>\n",
       "    </tr>\n",
       "  </thead>\n",
       "  <tbody>\n",
       "    <tr>\n",
       "      <th>1</th>\n",
       "      <td>Wells Fargo</td>\n",
       "      <td>Research Portfolio Analyst</td>\n",
       "      <td>West Des Moines, IA</td>\n",
       "    </tr>\n",
       "    <tr>\n",
       "      <th>2</th>\n",
       "      <td>Wells Fargo</td>\n",
       "      <td>Analytic Consultant 3</td>\n",
       "      <td>West Des Moines, IA</td>\n",
       "    </tr>\n",
       "    <tr>\n",
       "      <th>3</th>\n",
       "      <td>InfoWeb Systems, Inc.</td>\n",
       "      <td>Cloud, Data Engineer with Oracle DBA Focus</td>\n",
       "      <td>Des Moines, IA</td>\n",
       "    </tr>\n",
       "    <tr>\n",
       "      <th>4</th>\n",
       "      <td>Workiva Inc.</td>\n",
       "      <td>Data Solutions Analyst</td>\n",
       "      <td>Ames, IA</td>\n",
       "    </tr>\n",
       "    <tr>\n",
       "      <th>5</th>\n",
       "      <td>Wells Fargo</td>\n",
       "      <td>Analytic Consultant 3</td>\n",
       "      <td>Des Moines, IA</td>\n",
       "    </tr>\n",
       "    <tr>\n",
       "      <th>6</th>\n",
       "      <td>Wells Fargo</td>\n",
       "      <td>Analytic Consultant 4: Team Member Insights St...</td>\n",
       "      <td>West Des Moines, IA</td>\n",
       "    </tr>\n",
       "    <tr>\n",
       "      <th>7</th>\n",
       "      <td>InfoSpace, Inc.</td>\n",
       "      <td>Director, Advanced Analytics</td>\n",
       "      <td>Cedar Rapids, IA</td>\n",
       "    </tr>\n",
       "    <tr>\n",
       "      <th>8</th>\n",
       "      <td>United Fire Group</td>\n",
       "      <td>Database &amp; Application Development Intern</td>\n",
       "      <td>Cedar Rapids, IA</td>\n",
       "    </tr>\n",
       "    <tr>\n",
       "      <th>9</th>\n",
       "      <td>P3</td>\n",
       "      <td>Data Engineer</td>\n",
       "      <td>West Des Moines, IA</td>\n",
       "    </tr>\n",
       "    <tr>\n",
       "      <th>10</th>\n",
       "      <td>Kuder, Inc.</td>\n",
       "      <td>Junior Software Developer</td>\n",
       "      <td>Adel, IA 50003</td>\n",
       "    </tr>\n",
       "    <tr>\n",
       "      <th>11</th>\n",
       "      <td>Alliant Energy</td>\n",
       "      <td>Data Scientist</td>\n",
       "      <td>Cedar Rapids, IA</td>\n",
       "    </tr>\n",
       "    <tr>\n",
       "      <th>12</th>\n",
       "      <td>The University of Iowa</td>\n",
       "      <td>DATABASE ARCHITECT</td>\n",
       "      <td>Iowa City, IA 52242</td>\n",
       "    </tr>\n",
       "    <tr>\n",
       "      <th>13</th>\n",
       "      <td>DuPont</td>\n",
       "      <td>Data Scientist - Soil &amp; Plant Sciences</td>\n",
       "      <td>Johnston, IA</td>\n",
       "    </tr>\n",
       "    <tr>\n",
       "      <th>14</th>\n",
       "      <td>Wells Fargo</td>\n",
       "      <td>Advanced Analytics and Modeling for Home Mortg...</td>\n",
       "      <td>West Des Moines, IA</td>\n",
       "    </tr>\n",
       "    <tr>\n",
       "      <th>15</th>\n",
       "      <td>Predictive Science</td>\n",
       "      <td>Data Scientist</td>\n",
       "      <td>United States</td>\n",
       "    </tr>\n",
       "  </tbody>\n",
       "</table>\n",
       "</div>"
      ],
      "text/plain": [
       "              Company_Name                                          Job_Title  \\\n",
       "1              Wells Fargo                         Research Portfolio Analyst   \n",
       "2              Wells Fargo                              Analytic Consultant 3   \n",
       "3    InfoWeb Systems, Inc.         Cloud, Data Engineer with Oracle DBA Focus   \n",
       "4             Workiva Inc.                             Data Solutions Analyst   \n",
       "5              Wells Fargo                              Analytic Consultant 3   \n",
       "6              Wells Fargo  Analytic Consultant 4: Team Member Insights St...   \n",
       "7          InfoSpace, Inc.                       Director, Advanced Analytics   \n",
       "8        United Fire Group          Database & Application Development Intern   \n",
       "9                       P3                                      Data Engineer   \n",
       "10             Kuder, Inc.                          Junior Software Developer   \n",
       "11          Alliant Energy                                     Data Scientist   \n",
       "12  The University of Iowa                                 DATABASE ARCHITECT   \n",
       "13                  DuPont             Data Scientist - Soil & Plant Sciences   \n",
       "14             Wells Fargo  Advanced Analytics and Modeling for Home Mortg...   \n",
       "15      Predictive Science                                     Data Scientist   \n",
       "\n",
       "               Location  \n",
       "1   West Des Moines, IA  \n",
       "2   West Des Moines, IA  \n",
       "3        Des Moines, IA  \n",
       "4              Ames, IA  \n",
       "5        Des Moines, IA  \n",
       "6   West Des Moines, IA  \n",
       "7      Cedar Rapids, IA  \n",
       "8      Cedar Rapids, IA  \n",
       "9   West Des Moines, IA  \n",
       "10       Adel, IA 50003  \n",
       "11     Cedar Rapids, IA  \n",
       "12  Iowa City, IA 52242  \n",
       "13         Johnston, IA  \n",
       "14  West Des Moines, IA  \n",
       "15        United States  "
      ]
     },
     "execution_count": 4,
     "metadata": {},
     "output_type": "execute_result"
    }
   ],
   "source": [
    "df.head(15)"
   ]
  },
  {
   "cell_type": "markdown",
   "metadata": {
    "slideshow": {
     "slide_type": "slide"
    }
   },
   "source": [
    "From peaking at the data you can see that there are some cities with zipcode.   \n",
    "Simple data cleaing:\n",
    "I will take the zipcodes from thoes cities to make it easy to work with. \n",
    " \n",
    "Indeed repeats the same job multiple times so duplicates will be droped.\n",
    "\n",
    "* To clean the fix the zipcode issue, I will find the index where the zipcode starts and subset the location string to that point. And since I know Iowa zip codes start with 5 and does not have numbers in the city names, I will have to find 5\n"
   ]
  },
  {
   "cell_type": "code",
   "execution_count": 5,
   "metadata": {
    "slideshow": {
     "slide_type": "slide"
    }
   },
   "outputs": [
    {
     "name": "stdout",
     "output_type": "stream",
     "text": [
      "looks clean\n"
     ]
    },
    {
     "data": {
      "text/html": [
       "<div>\n",
       "<table border=\"1\" class=\"dataframe\">\n",
       "  <thead>\n",
       "    <tr style=\"text-align: right;\">\n",
       "      <th></th>\n",
       "      <th>Company_Name</th>\n",
       "      <th>Job_Title</th>\n",
       "      <th>Location</th>\n",
       "    </tr>\n",
       "  </thead>\n",
       "  <tbody>\n",
       "    <tr>\n",
       "      <th>1</th>\n",
       "      <td>Wells Fargo</td>\n",
       "      <td>Research Portfolio Analyst</td>\n",
       "      <td>West Des Moines, IA</td>\n",
       "    </tr>\n",
       "    <tr>\n",
       "      <th>2</th>\n",
       "      <td>Wells Fargo</td>\n",
       "      <td>Analytic Consultant 3</td>\n",
       "      <td>West Des Moines, IA</td>\n",
       "    </tr>\n",
       "    <tr>\n",
       "      <th>3</th>\n",
       "      <td>InfoWeb Systems, Inc.</td>\n",
       "      <td>Cloud, Data Engineer with Oracle DBA Focus</td>\n",
       "      <td>Des Moines, IA</td>\n",
       "    </tr>\n",
       "    <tr>\n",
       "      <th>4</th>\n",
       "      <td>Workiva Inc.</td>\n",
       "      <td>Data Solutions Analyst</td>\n",
       "      <td>Ames, IA</td>\n",
       "    </tr>\n",
       "    <tr>\n",
       "      <th>5</th>\n",
       "      <td>Wells Fargo</td>\n",
       "      <td>Analytic Consultant 3</td>\n",
       "      <td>Des Moines, IA</td>\n",
       "    </tr>\n",
       "    <tr>\n",
       "      <th>6</th>\n",
       "      <td>Wells Fargo</td>\n",
       "      <td>Analytic Consultant 4: Team Member Insights St...</td>\n",
       "      <td>West Des Moines, IA</td>\n",
       "    </tr>\n",
       "    <tr>\n",
       "      <th>7</th>\n",
       "      <td>InfoSpace, Inc.</td>\n",
       "      <td>Director, Advanced Analytics</td>\n",
       "      <td>Cedar Rapids, IA</td>\n",
       "    </tr>\n",
       "    <tr>\n",
       "      <th>8</th>\n",
       "      <td>United Fire Group</td>\n",
       "      <td>Database &amp; Application Development Intern</td>\n",
       "      <td>Cedar Rapids, IA</td>\n",
       "    </tr>\n",
       "    <tr>\n",
       "      <th>9</th>\n",
       "      <td>P3</td>\n",
       "      <td>Data Engineer</td>\n",
       "      <td>West Des Moines, IA</td>\n",
       "    </tr>\n",
       "    <tr>\n",
       "      <th>10</th>\n",
       "      <td>Kuder, Inc.</td>\n",
       "      <td>Junior Software Developer</td>\n",
       "      <td>Adel, IA</td>\n",
       "    </tr>\n",
       "    <tr>\n",
       "      <th>11</th>\n",
       "      <td>Alliant Energy</td>\n",
       "      <td>Data Scientist</td>\n",
       "      <td>Cedar Rapids, IA</td>\n",
       "    </tr>\n",
       "    <tr>\n",
       "      <th>12</th>\n",
       "      <td>The University of Iowa</td>\n",
       "      <td>DATABASE ARCHITECT</td>\n",
       "      <td>Iowa City, IA</td>\n",
       "    </tr>\n",
       "    <tr>\n",
       "      <th>13</th>\n",
       "      <td>DuPont</td>\n",
       "      <td>Data Scientist - Soil &amp; Plant Sciences</td>\n",
       "      <td>Johnston, IA</td>\n",
       "    </tr>\n",
       "    <tr>\n",
       "      <th>14</th>\n",
       "      <td>Wells Fargo</td>\n",
       "      <td>Advanced Analytics and Modeling for Home Mortg...</td>\n",
       "      <td>West Des Moines, IA</td>\n",
       "    </tr>\n",
       "    <tr>\n",
       "      <th>15</th>\n",
       "      <td>Predictive Science</td>\n",
       "      <td>Data Scientist</td>\n",
       "      <td>United States</td>\n",
       "    </tr>\n",
       "  </tbody>\n",
       "</table>\n",
       "</div>"
      ],
      "text/plain": [
       "              Company_Name                                          Job_Title  \\\n",
       "1              Wells Fargo                         Research Portfolio Analyst   \n",
       "2              Wells Fargo                              Analytic Consultant 3   \n",
       "3    InfoWeb Systems, Inc.         Cloud, Data Engineer with Oracle DBA Focus   \n",
       "4             Workiva Inc.                             Data Solutions Analyst   \n",
       "5              Wells Fargo                              Analytic Consultant 3   \n",
       "6              Wells Fargo  Analytic Consultant 4: Team Member Insights St...   \n",
       "7          InfoSpace, Inc.                       Director, Advanced Analytics   \n",
       "8        United Fire Group          Database & Application Development Intern   \n",
       "9                       P3                                      Data Engineer   \n",
       "10             Kuder, Inc.                          Junior Software Developer   \n",
       "11          Alliant Energy                                     Data Scientist   \n",
       "12  The University of Iowa                                 DATABASE ARCHITECT   \n",
       "13                  DuPont             Data Scientist - Soil & Plant Sciences   \n",
       "14             Wells Fargo  Advanced Analytics and Modeling for Home Mortg...   \n",
       "15      Predictive Science                                     Data Scientist   \n",
       "\n",
       "               Location  \n",
       "1   West Des Moines, IA  \n",
       "2   West Des Moines, IA  \n",
       "3        Des Moines, IA  \n",
       "4              Ames, IA  \n",
       "5        Des Moines, IA  \n",
       "6   West Des Moines, IA  \n",
       "7      Cedar Rapids, IA  \n",
       "8      Cedar Rapids, IA  \n",
       "9   West Des Moines, IA  \n",
       "10             Adel, IA  \n",
       "11     Cedar Rapids, IA  \n",
       "12        Iowa City, IA  \n",
       "13         Johnston, IA  \n",
       "14  West Des Moines, IA  \n",
       "15        United States  "
      ]
     },
     "execution_count": 5,
     "metadata": {},
     "output_type": "execute_result"
    }
   ],
   "source": [
    "locations = df[\"Location\"].values\n",
    "\n",
    "tidy_location = [location[:location.find(\"5\")].strip() \n",
    "                 if location.find(\"5\") != -1 \n",
    "                 else location  \n",
    "                 for location in locations]\n",
    "\n",
    "#assign data back to dataframe\n",
    "df = df.assign(Location=tidy_location)\n",
    "\n",
    "#drop duplicated data\n",
    "df2 = df[:].drop_duplicates()\n",
    "print(\"looks clean\")\n",
    "df2.head(15)"
   ]
  },
  {
   "cell_type": "markdown",
   "metadata": {
    "slideshow": {
     "slide_type": "slide"
    }
   },
   "source": [
    "###  Top Five cities with the most data science career in Iowa As of 4/23/2017"
   ]
  },
  {
   "cell_type": "code",
   "execution_count": 6,
   "metadata": {
    "scrolled": false,
    "slideshow": {
     "slide_type": "slide"
    }
   },
   "outputs": [
    {
     "data": {
      "text/plain": [
       "[<matplotlib.text.Text at 0x19de725ff98>]"
      ]
     },
     "execution_count": 6,
     "metadata": {},
     "output_type": "execute_result"
    },
    {
     "data": {
      "image/png": "[encoded data removed]",
      "text/plain": [
       "<matplotlib.figure.Figure at 0x19de71ecba8>"
      ]
     },
     "metadata": {},
     "output_type": "display_data"
    }
   ],
   "source": [
    "#Count the frequency of a city in the data in decending order and the use head to get the top 5\n",
    "loc_data = df2[\"Location\"].value_counts(ascending=False).head()\n",
    "#put loc_data in a data frame\n",
    "loc_df = pd.DataFrame({\"Location\":loc_data.index, \n",
    "                       \"Count\":loc_data.values})\n",
    "\n",
    "#plot loc_df (i am using seaborn)\n",
    "sns.set(style=\"darkgrid\")\n",
    "sns.plt.title(\"Top Five cities with the most data science career in Iowa As of 4/23/2017\\n\",fontsize=16,color=\"r\")\n",
    "sns.barplot(y = \"Location\", x =\"Count\", data=loc_df).set(xlabel=\"Number of Careers\")"
   ]
  },
  {
   "cell_type": "markdown",
   "metadata": {
    "slideshow": {
     "slide_type": "slide"
    }
   },
   "source": [
    "###  Top Five companies with the most  career openings in Iowa"
   ]
  },
  {
   "cell_type": "code",
   "execution_count": 8,
   "metadata": {
    "scrolled": false,
    "slideshow": {
     "slide_type": "slide"
    }
   },
   "outputs": [
    {
     "data": {
      "text/plain": [
       "[<matplotlib.text.Text at 0x19de74880b8>]"
      ]
     },
     "execution_count": 8,
     "metadata": {},
     "output_type": "execute_result"
    },
    {
     "data": {
      "image/png": "[encoded data removed]",
      "text/plain": [
       "<matplotlib.figure.Figure at 0x19de7271668>"
      ]
     },
     "metadata": {},
     "output_type": "display_data"
    }
   ],
   "source": [
    "dt = df2[\"Company_Name\"].value_counts(ascending=False).head()\n",
    "df3 =pd.DataFrame({\"Company\":dt.index, \"Count\":dt.values})\n",
    "\n",
    "sns.set(style=\"whitegrid\")\n",
    "sns.plt.title(\"Top Five companies with the most  career openings in Iowa As of 4/23/2017\\n\",\n",
    "              fontsize=16,\n",
    "              color=\"r\")\n",
    "\n",
    "sns.barplot(y = \"Company\", x =\"Count\", data=df3, color=\"teal\").set(xlabel=\"Number of Career openings\")"
   ]
  },
  {
   "cell_type": "markdown",
   "metadata": {
    "slideshow": {
     "slide_type": "slide"
    }
   },
   "source": [
    "## Data Transformation\n",
    "**I will use head method on all dataFrame to keep the notebook short when I convert to html** \n",
    "* Filter and Querying\n",
    "* arrange and sorting\n",
    "* select\n",
    "* mutate \n",
    "* Group and summarizing\n"
   ]
  },
  {
   "cell_type": "markdown",
   "metadata": {
    "slideshow": {
     "slide_type": "subslide"
    }
   },
   "source": [
    "## Filter and Querying\n",
    "**Examples:**\n",
    "* Find all Job title and Location for only Wells Fargo\n",
    "* Find Comapany, job title and location but not in West Des Moines and comapnay not Wells fargo"
   ]
  },
  {
   "cell_type": "code",
   "execution_count": 21,
   "metadata": {
    "slideshow": {
     "slide_type": "subslide"
    }
   },
   "outputs": [
    {
     "data": {
      "text/html": [
       "<div>\n",
       "<table border=\"1\" class=\"dataframe\">\n",
       "  <thead>\n",
       "    <tr style=\"text-align: right;\">\n",
       "      <th></th>\n",
       "      <th>Company_Name</th>\n",
       "      <th>Job_Title</th>\n",
       "      <th>Location</th>\n",
       "    </tr>\n",
       "  </thead>\n",
       "  <tbody>\n",
       "    <tr>\n",
       "      <th>1</th>\n",
       "      <td>Wells Fargo</td>\n",
       "      <td>Research Portfolio Analyst</td>\n",
       "      <td>West Des Moines, IA</td>\n",
       "    </tr>\n",
       "    <tr>\n",
       "      <th>2</th>\n",
       "      <td>Wells Fargo</td>\n",
       "      <td>Analytic Consultant 3</td>\n",
       "      <td>West Des Moines, IA</td>\n",
       "    </tr>\n",
       "    <tr>\n",
       "      <th>5</th>\n",
       "      <td>Wells Fargo</td>\n",
       "      <td>Analytic Consultant 3</td>\n",
       "      <td>Des Moines, IA</td>\n",
       "    </tr>\n",
       "    <tr>\n",
       "      <th>6</th>\n",
       "      <td>Wells Fargo</td>\n",
       "      <td>Analytic Consultant 4: Team Member Insights St...</td>\n",
       "      <td>West Des Moines, IA</td>\n",
       "    </tr>\n",
       "    <tr>\n",
       "      <th>14</th>\n",
       "      <td>Wells Fargo</td>\n",
       "      <td>Advanced Analytics and Modeling for Home Mortg...</td>\n",
       "      <td>West Des Moines, IA</td>\n",
       "    </tr>\n",
       "  </tbody>\n",
       "</table>\n",
       "</div>"
      ],
      "text/plain": [
       "   Company_Name                                          Job_Title  \\\n",
       "1   Wells Fargo                         Research Portfolio Analyst   \n",
       "2   Wells Fargo                              Analytic Consultant 3   \n",
       "5   Wells Fargo                              Analytic Consultant 3   \n",
       "6   Wells Fargo  Analytic Consultant 4: Team Member Insights St...   \n",
       "14  Wells Fargo  Advanced Analytics and Modeling for Home Mortg...   \n",
       "\n",
       "               Location  \n",
       "1   West Des Moines, IA  \n",
       "2   West Des Moines, IA  \n",
       "5        Des Moines, IA  \n",
       "6   West Des Moines, IA  \n",
       "14  West Des Moines, IA  "
      ]
     },
     "execution_count": 21,
     "metadata": {},
     "output_type": "execute_result"
    }
   ],
   "source": [
    "df2.query(\"Company_Name == 'Wells Fargo'\").head()"
   ]
  },
  {
   "cell_type": "code",
   "execution_count": 22,
   "metadata": {
    "slideshow": {
     "slide_type": "subslide"
    }
   },
   "outputs": [
    {
     "data": {
      "text/html": [
       "<div>\n",
       "<table border=\"1\" class=\"dataframe\">\n",
       "  <thead>\n",
       "    <tr style=\"text-align: right;\">\n",
       "      <th></th>\n",
       "      <th>Company_Name</th>\n",
       "      <th>Job_Title</th>\n",
       "      <th>Location</th>\n",
       "    </tr>\n",
       "  </thead>\n",
       "  <tbody>\n",
       "    <tr>\n",
       "      <th>3</th>\n",
       "      <td>InfoWeb Systems, Inc.</td>\n",
       "      <td>Cloud, Data Engineer with Oracle DBA Focus</td>\n",
       "      <td>Des Moines, IA</td>\n",
       "    </tr>\n",
       "    <tr>\n",
       "      <th>4</th>\n",
       "      <td>Workiva Inc.</td>\n",
       "      <td>Data Solutions Analyst</td>\n",
       "      <td>Ames, IA</td>\n",
       "    </tr>\n",
       "    <tr>\n",
       "      <th>7</th>\n",
       "      <td>InfoSpace, Inc.</td>\n",
       "      <td>Director, Advanced Analytics</td>\n",
       "      <td>Cedar Rapids, IA</td>\n",
       "    </tr>\n",
       "    <tr>\n",
       "      <th>8</th>\n",
       "      <td>United Fire Group</td>\n",
       "      <td>Database &amp; Application Development Intern</td>\n",
       "      <td>Cedar Rapids, IA</td>\n",
       "    </tr>\n",
       "    <tr>\n",
       "      <th>10</th>\n",
       "      <td>Kuder, Inc.</td>\n",
       "      <td>Junior Software Developer</td>\n",
       "      <td>Adel, IA</td>\n",
       "    </tr>\n",
       "  </tbody>\n",
       "</table>\n",
       "</div>"
      ],
      "text/plain": [
       "             Company_Name                                   Job_Title  \\\n",
       "3   InfoWeb Systems, Inc.  Cloud, Data Engineer with Oracle DBA Focus   \n",
       "4            Workiva Inc.                      Data Solutions Analyst   \n",
       "7         InfoSpace, Inc.                Director, Advanced Analytics   \n",
       "8       United Fire Group   Database & Application Development Intern   \n",
       "10            Kuder, Inc.                   Junior Software Developer   \n",
       "\n",
       "            Location  \n",
       "3     Des Moines, IA  \n",
       "4           Ames, IA  \n",
       "7   Cedar Rapids, IA  \n",
       "8   Cedar Rapids, IA  \n",
       "10          Adel, IA  "
      ]
     },
     "execution_count": 22,
     "metadata": {},
     "output_type": "execute_result"
    }
   ],
   "source": [
    "#find locations but not west Des Moines and comapnay not Wells fargo\n",
    "df2.query(\"Location != 'West Des Moines, IA'  & Company_Name != 'Wells Fargo'\").head()"
   ]
  },
  {
   "cell_type": "markdown",
   "metadata": {
    "slideshow": {
     "slide_type": "slide"
    }
   },
   "source": [
    "## Arrange and Sorting\n",
    "**sort_values** is used to arrange given column(s) in ascending order.\n",
    "* sort data by company name (arranges in ascending other)\n",
    "* rename columns"
   ]
  },
  {
   "cell_type": "code",
   "execution_count": 23,
   "metadata": {
    "scrolled": true,
    "slideshow": {
     "slide_type": "subslide"
    }
   },
   "outputs": [
    {
     "data": {
      "text/html": [
       "<div>\n",
       "<table border=\"1\" class=\"dataframe\">\n",
       "  <thead>\n",
       "    <tr style=\"text-align: right;\">\n",
       "      <th></th>\n",
       "      <th>Company_Name</th>\n",
       "      <th>Job_Title</th>\n",
       "      <th>Location</th>\n",
       "    </tr>\n",
       "  </thead>\n",
       "  <tbody>\n",
       "    <tr>\n",
       "      <th>48</th>\n",
       "      <td>ACT, Inc.</td>\n",
       "      <td>Research Scientist</td>\n",
       "      <td>Iowa City, IA</td>\n",
       "    </tr>\n",
       "    <tr>\n",
       "      <th>460</th>\n",
       "      <td>ACT, Inc.</td>\n",
       "      <td>Lead Solutions Architect</td>\n",
       "      <td>Iowa City, IA</td>\n",
       "    </tr>\n",
       "    <tr>\n",
       "      <th>489</th>\n",
       "      <td>ACT, Inc.</td>\n",
       "      <td>Senior Manager Market Research</td>\n",
       "      <td>Iowa City, IA</td>\n",
       "    </tr>\n",
       "    <tr>\n",
       "      <th>27</th>\n",
       "      <td>ACT, Inc.</td>\n",
       "      <td>Summer Internship: Behavior and Navigation Res...</td>\n",
       "      <td>Iowa City, IA</td>\n",
       "    </tr>\n",
       "    <tr>\n",
       "      <th>69</th>\n",
       "      <td>ACT, Inc.</td>\n",
       "      <td>Investigative Analyst I</td>\n",
       "      <td>Iowa City, IA</td>\n",
       "    </tr>\n",
       "  </tbody>\n",
       "</table>\n",
       "</div>"
      ],
      "text/plain": [
       "    Company_Name                                          Job_Title  \\\n",
       "48     ACT, Inc.                                 Research Scientist   \n",
       "460    ACT, Inc.                           Lead Solutions Architect   \n",
       "489    ACT, Inc.                     Senior Manager Market Research   \n",
       "27     ACT, Inc.  Summer Internship: Behavior and Navigation Res...   \n",
       "69     ACT, Inc.                            Investigative Analyst I   \n",
       "\n",
       "          Location  \n",
       "48   Iowa City, IA  \n",
       "460  Iowa City, IA  \n",
       "489  Iowa City, IA  \n",
       "27   Iowa City, IA  \n",
       "69   Iowa City, IA  "
      ]
     },
     "execution_count": 23,
     "metadata": {},
     "output_type": "execute_result"
    }
   ],
   "source": [
    "df2.sort_values([\"Company_Name\"]).head()"
   ]
  },
  {
   "cell_type": "code",
   "execution_count": 24,
   "metadata": {
    "slideshow": {
     "slide_type": "subslide"
    }
   },
   "outputs": [
    {
     "data": {
      "text/html": [
       "<div>\n",
       "<table border=\"1\" class=\"dataframe\">\n",
       "  <thead>\n",
       "    <tr style=\"text-align: right;\">\n",
       "      <th></th>\n",
       "      <th>Company_Name</th>\n",
       "      <th>Job_Title</th>\n",
       "      <th>Locations</th>\n",
       "    </tr>\n",
       "  </thead>\n",
       "  <tbody>\n",
       "    <tr>\n",
       "      <th>1</th>\n",
       "      <td>Wells Fargo</td>\n",
       "      <td>Research Portfolio Analyst</td>\n",
       "      <td>West Des Moines, IA</td>\n",
       "    </tr>\n",
       "    <tr>\n",
       "      <th>2</th>\n",
       "      <td>Wells Fargo</td>\n",
       "      <td>Analytic Consultant 3</td>\n",
       "      <td>West Des Moines, IA</td>\n",
       "    </tr>\n",
       "    <tr>\n",
       "      <th>3</th>\n",
       "      <td>InfoWeb Systems, Inc.</td>\n",
       "      <td>Cloud, Data Engineer with Oracle DBA Focus</td>\n",
       "      <td>Des Moines, IA</td>\n",
       "    </tr>\n",
       "    <tr>\n",
       "      <th>4</th>\n",
       "      <td>Workiva Inc.</td>\n",
       "      <td>Data Solutions Analyst</td>\n",
       "      <td>Ames, IA</td>\n",
       "    </tr>\n",
       "    <tr>\n",
       "      <th>5</th>\n",
       "      <td>Wells Fargo</td>\n",
       "      <td>Analytic Consultant 3</td>\n",
       "      <td>Des Moines, IA</td>\n",
       "    </tr>\n",
       "  </tbody>\n",
       "</table>\n",
       "</div>"
      ],
      "text/plain": [
       "            Company_Name                                   Job_Title  \\\n",
       "1            Wells Fargo                  Research Portfolio Analyst   \n",
       "2            Wells Fargo                       Analytic Consultant 3   \n",
       "3  InfoWeb Systems, Inc.  Cloud, Data Engineer with Oracle DBA Focus   \n",
       "4           Workiva Inc.                      Data Solutions Analyst   \n",
       "5            Wells Fargo                       Analytic Consultant 3   \n",
       "\n",
       "             Locations  \n",
       "1  West Des Moines, IA  \n",
       "2  West Des Moines, IA  \n",
       "3       Des Moines, IA  \n",
       "4             Ames, IA  \n",
       "5       Des Moines, IA  "
      ]
     },
     "execution_count": 24,
     "metadata": {},
     "output_type": "execute_result"
    }
   ],
   "source": [
    "df.rename(columns={\"Location\":\"Locations\"}).head()"
   ]
  },
  {
   "cell_type": "markdown",
   "metadata": {
    "slideshow": {
     "slide_type": "slide"
    }
   },
   "source": [
    "## Selection\n",
    "* Select data containing just the Company names\n",
    "* Select the locations and job title only"
   ]
  },
  {
   "cell_type": "code",
   "execution_count": 30,
   "metadata": {
    "scrolled": true,
    "slideshow": {
     "slide_type": "subslide"
    }
   },
   "outputs": [
    {
     "data": {
      "text/plain": [
       "1              Wells Fargo\n",
       "2              Wells Fargo\n",
       "3    InfoWeb Systems, Inc.\n",
       "4             Workiva Inc.\n",
       "5              Wells Fargo\n",
       "Name: Company_Name, dtype: object"
      ]
     },
     "execution_count": 30,
     "metadata": {},
     "output_type": "execute_result"
    }
   ],
   "source": [
    "df2['Company_Name'].head() "
   ]
  },
  {
   "cell_type": "markdown",
   "metadata": {
    "slideshow": {
     "slide_type": "subslide"
    }
   },
   "source": [
    "Assuming I dont mind the company I want to work and I only care about the location and Job title"
   ]
  },
  {
   "cell_type": "code",
   "execution_count": 31,
   "metadata": {
    "slideshow": {
     "slide_type": "subslide"
    }
   },
   "outputs": [
    {
     "data": {
      "text/html": [
       "<div>\n",
       "<table border=\"1\" class=\"dataframe\">\n",
       "  <thead>\n",
       "    <tr style=\"text-align: right;\">\n",
       "      <th></th>\n",
       "      <th>Location</th>\n",
       "      <th>Job_Title</th>\n",
       "    </tr>\n",
       "  </thead>\n",
       "  <tbody>\n",
       "    <tr>\n",
       "      <th>1</th>\n",
       "      <td>West Des Moines, IA</td>\n",
       "      <td>Research Portfolio Analyst</td>\n",
       "    </tr>\n",
       "    <tr>\n",
       "      <th>2</th>\n",
       "      <td>West Des Moines, IA</td>\n",
       "      <td>Analytic Consultant 3</td>\n",
       "    </tr>\n",
       "    <tr>\n",
       "      <th>3</th>\n",
       "      <td>Des Moines, IA</td>\n",
       "      <td>Cloud, Data Engineer with Oracle DBA Focus</td>\n",
       "    </tr>\n",
       "    <tr>\n",
       "      <th>4</th>\n",
       "      <td>Ames, IA</td>\n",
       "      <td>Data Solutions Analyst</td>\n",
       "    </tr>\n",
       "    <tr>\n",
       "      <th>5</th>\n",
       "      <td>Des Moines, IA</td>\n",
       "      <td>Analytic Consultant 3</td>\n",
       "    </tr>\n",
       "  </tbody>\n",
       "</table>\n",
       "</div>"
      ],
      "text/plain": [
       "              Location                                   Job_Title\n",
       "1  West Des Moines, IA                  Research Portfolio Analyst\n",
       "2  West Des Moines, IA                       Analytic Consultant 3\n",
       "3       Des Moines, IA  Cloud, Data Engineer with Oracle DBA Focus\n",
       "4             Ames, IA                      Data Solutions Analyst\n",
       "5       Des Moines, IA                       Analytic Consultant 3"
      ]
     },
     "execution_count": 31,
     "metadata": {},
     "output_type": "execute_result"
    }
   ],
   "source": [
    "## select multiple columns in different order\n",
    "# this retrieves a column with the names specified in the list\n",
    "df2[[\"Location\",\"Job_Title\"]].head()  "
   ]
  },
  {
   "cell_type": "markdown",
   "metadata": {
    "slideshow": {
     "slide_type": "subslide"
    }
   },
   "source": [
    "Select comapnay_names without duplicate to know the number of unique companies hiring"
   ]
  },
  {
   "cell_type": "code",
   "execution_count": 32,
   "metadata": {
    "scrolled": true,
    "slideshow": {
     "slide_type": "subslide"
    }
   },
   "outputs": [
    {
     "name": "stdout",
     "output_type": "stream",
     "text": [
      "Number of companies hiring: 194\n",
      "Number of Job roles hiring for: 386\n",
      "            Company_Name\n",
      "1            Wells Fargo\n",
      "3  InfoWeb Systems, Inc.\n",
      "4           Workiva Inc.\n",
      "7        InfoSpace, Inc.\n",
      "8      United Fire Group\n"
     ]
    }
   ],
   "source": [
    "#Select comapnay_names without duplicate to know the number of unique companies hiring\n",
    "print(\"Number of companies hiring:\", df2[[\"Company_Name\"]].drop_duplicates().size) # get the nuber\n",
    "\n",
    "# we can do same for Job_title\n",
    "print(\"Number of Job roles hiring for:\",df2[[\"Job_Title\"]].drop_duplicates().size)\n",
    "\n",
    "# view the companies names\n",
    "print(df2[[\"Company_Name\"]].drop_duplicates().head())\n"
   ]
  },
  {
   "cell_type": "markdown",
   "metadata": {
    "slideshow": {
     "slide_type": "subslide"
    }
   },
   "source": [
    "__From the numbers above we can confidently say that, they is at least some company hiring for more than one position.__(it could be the same position but different location)\n",
    " "
   ]
  },
  {
   "cell_type": "markdown",
   "metadata": {
    "slideshow": {
     "slide_type": "slide"
    }
   },
   "source": [
    "## Mutate / Assign\n",
    "\n",
    "For this part, I will make up pay values just to illustrate how **assign**(behaves like mutate in R) works\n",
    "\n",
    "**Note:** DataFrame.assign will not change the original DataFram unless you assign it back to the same variable"
   ]
  },
  {
   "cell_type": "code",
   "execution_count": 15,
   "metadata": {
    "slideshow": {
     "slide_type": "subslide"
    }
   },
   "outputs": [
    {
     "data": {
      "text/html": [
       "<div>\n",
       "<table border=\"1\" class=\"dataframe\">\n",
       "  <thead>\n",
       "    <tr style=\"text-align: right;\">\n",
       "      <th></th>\n",
       "      <th>Company_Name</th>\n",
       "      <th>Job_Title</th>\n",
       "      <th>Location</th>\n",
       "      <th>pay</th>\n",
       "    </tr>\n",
       "  </thead>\n",
       "  <tbody>\n",
       "    <tr>\n",
       "      <th>1</th>\n",
       "      <td>Wells Fargo</td>\n",
       "      <td>Research Portfolio Analyst</td>\n",
       "      <td>West Des Moines, IA</td>\n",
       "      <td>11.6</td>\n",
       "    </tr>\n",
       "    <tr>\n",
       "      <th>2</th>\n",
       "      <td>Wells Fargo</td>\n",
       "      <td>Analytic Consultant 3</td>\n",
       "      <td>West Des Moines, IA</td>\n",
       "      <td>23.2</td>\n",
       "    </tr>\n",
       "    <tr>\n",
       "      <th>3</th>\n",
       "      <td>InfoWeb Systems, Inc.</td>\n",
       "      <td>Cloud, Data Engineer with Oracle DBA Focus</td>\n",
       "      <td>Des Moines, IA</td>\n",
       "      <td>34.8</td>\n",
       "    </tr>\n",
       "    <tr>\n",
       "      <th>4</th>\n",
       "      <td>Workiva Inc.</td>\n",
       "      <td>Data Solutions Analyst</td>\n",
       "      <td>Ames, IA</td>\n",
       "      <td>46.4</td>\n",
       "    </tr>\n",
       "    <tr>\n",
       "      <th>5</th>\n",
       "      <td>Wells Fargo</td>\n",
       "      <td>Analytic Consultant 3</td>\n",
       "      <td>Des Moines, IA</td>\n",
       "      <td>58.0</td>\n",
       "    </tr>\n",
       "  </tbody>\n",
       "</table>\n",
       "</div>"
      ],
      "text/plain": [
       "            Company_Name                                   Job_Title  \\\n",
       "1            Wells Fargo                  Research Portfolio Analyst   \n",
       "2            Wells Fargo                       Analytic Consultant 3   \n",
       "3  InfoWeb Systems, Inc.  Cloud, Data Engineer with Oracle DBA Focus   \n",
       "4           Workiva Inc.                      Data Solutions Analyst   \n",
       "5            Wells Fargo                       Analytic Consultant 3   \n",
       "\n",
       "              Location   pay  \n",
       "1  West Des Moines, IA  11.6  \n",
       "2  West Des Moines, IA  23.2  \n",
       "3       Des Moines, IA  34.8  \n",
       "4             Ames, IA  46.4  \n",
       "5       Des Moines, IA  58.0  "
      ]
     },
     "execution_count": 15,
     "metadata": {},
     "output_type": "execute_result"
    }
   ],
   "source": [
    "# will make up pay for each job\n",
    "df2.assign(pay=df2.index * 58 / 5).head()"
   ]
  },
  {
   "cell_type": "code",
   "execution_count": 28,
   "metadata": {
    "slideshow": {
     "slide_type": "subslide"
    }
   },
   "outputs": [
    {
     "data": {
      "text/html": [
       "<div>\n",
       "<table border=\"1\" class=\"dataframe\">\n",
       "  <thead>\n",
       "    <tr style=\"text-align: right;\">\n",
       "      <th></th>\n",
       "      <th>Company_Name</th>\n",
       "      <th>Job_Title</th>\n",
       "      <th>Location</th>\n",
       "    </tr>\n",
       "  </thead>\n",
       "  <tbody>\n",
       "    <tr>\n",
       "      <th>1</th>\n",
       "      <td>Wells Fargo</td>\n",
       "      <td>Research Portfolio Analyst</td>\n",
       "      <td>West Des Moines, IA</td>\n",
       "    </tr>\n",
       "    <tr>\n",
       "      <th>2</th>\n",
       "      <td>Wells Fargo</td>\n",
       "      <td>Analytic Consultant 3</td>\n",
       "      <td>West Des Moines, IA</td>\n",
       "    </tr>\n",
       "    <tr>\n",
       "      <th>3</th>\n",
       "      <td>InfoWeb Systems, Inc.</td>\n",
       "      <td>Cloud, Data Engineer with Oracle DBA Focus</td>\n",
       "      <td>Des Moines, IA</td>\n",
       "    </tr>\n",
       "    <tr>\n",
       "      <th>4</th>\n",
       "      <td>Workiva Inc.</td>\n",
       "      <td>Data Solutions Analyst</td>\n",
       "      <td>Ames, IA</td>\n",
       "    </tr>\n",
       "    <tr>\n",
       "      <th>5</th>\n",
       "      <td>Wells Fargo</td>\n",
       "      <td>Analytic Consultant 3</td>\n",
       "      <td>Des Moines, IA</td>\n",
       "    </tr>\n",
       "  </tbody>\n",
       "</table>\n",
       "</div>"
      ],
      "text/plain": [
       "            Company_Name                                   Job_Title  \\\n",
       "1            Wells Fargo                  Research Portfolio Analyst   \n",
       "2            Wells Fargo                       Analytic Consultant 3   \n",
       "3  InfoWeb Systems, Inc.  Cloud, Data Engineer with Oracle DBA Focus   \n",
       "4           Workiva Inc.                      Data Solutions Analyst   \n",
       "5            Wells Fargo                       Analytic Consultant 3   \n",
       "\n",
       "              Location  \n",
       "1  West Des Moines, IA  \n",
       "2  West Des Moines, IA  \n",
       "3       Des Moines, IA  \n",
       "4             Ames, IA  \n",
       "5       Des Moines, IA  "
      ]
     },
     "execution_count": 28,
     "metadata": {},
     "output_type": "execute_result"
    }
   ],
   "source": [
    "#checking if I lied :)\n",
    "df2.head()"
   ]
  },
  {
   "cell_type": "markdown",
   "metadata": {
    "slideshow": {
     "slide_type": "slide"
    }
   },
   "source": [
    "## Grouping and Summarizing\n"
   ]
  },
  {
   "cell_type": "markdown",
   "metadata": {
    "slideshow": {
     "slide_type": "subslide"
    }
   },
   "source": [
    "companies and number of job in decending order"
   ]
  },
  {
   "cell_type": "code",
   "execution_count": 27,
   "metadata": {
    "scrolled": false,
    "slideshow": {
     "slide_type": "subslide"
    }
   },
   "outputs": [
    {
     "data": {
      "text/html": [
       "<div>\n",
       "<table border=\"1\" class=\"dataframe\">\n",
       "  <thead>\n",
       "    <tr style=\"text-align: right;\">\n",
       "      <th></th>\n",
       "      <th>Job_Title</th>\n",
       "      <th>Location</th>\n",
       "    </tr>\n",
       "    <tr>\n",
       "      <th>Company_Name</th>\n",
       "      <th></th>\n",
       "      <th></th>\n",
       "    </tr>\n",
       "  </thead>\n",
       "  <tbody>\n",
       "    <tr>\n",
       "      <th>UnityPoint Health</th>\n",
       "      <td>29</td>\n",
       "      <td>29</td>\n",
       "    </tr>\n",
       "    <tr>\n",
       "      <th>Catholic Health Initiatives</th>\n",
       "      <td>24</td>\n",
       "      <td>24</td>\n",
       "    </tr>\n",
       "    <tr>\n",
       "      <th>Wells Fargo</th>\n",
       "      <td>15</td>\n",
       "      <td>15</td>\n",
       "    </tr>\n",
       "    <tr>\n",
       "      <th>DuPont</th>\n",
       "      <td>13</td>\n",
       "      <td>13</td>\n",
       "    </tr>\n",
       "    <tr>\n",
       "      <th>Integrated DNA Technologies, Inc</th>\n",
       "      <td>11</td>\n",
       "      <td>11</td>\n",
       "    </tr>\n",
       "  </tbody>\n",
       "</table>\n",
       "</div>"
      ],
      "text/plain": [
       "                                  Job_Title  Location\n",
       "Company_Name                                         \n",
       "UnityPoint Health                        29        29\n",
       "Catholic Health Initiatives              24        24\n",
       "Wells Fargo                              15        15\n",
       "DuPont                                   13        13\n",
       "Integrated DNA Technologies, Inc         11        11"
      ]
     },
     "execution_count": 27,
     "metadata": {},
     "output_type": "execute_result"
    }
   ],
   "source": [
    "#companies and number of job in decending order\n",
    "df2.groupby([\"Company_Name\"],sort=False).count().sort_values(\n",
    "    by=[\"Job_Title\"],\n",
    "    ascending=False).head()"
   ]
  },
  {
   "cell_type": "markdown",
   "metadata": {
    "slideshow": {
     "slide_type": "subslide"
    }
   },
   "source": [
    "__Note that we can do this without grouping. we can just use values_count__"
   ]
  },
  {
   "cell_type": "code",
   "execution_count": 26,
   "metadata": {
    "slideshow": {
     "slide_type": "subslide"
    }
   },
   "outputs": [
    {
     "data": {
      "text/plain": [
       "UnityPoint Health              29\n",
       "Catholic Health Initiatives    24\n",
       "Wells Fargo                    15\n",
       "DuPont                         13\n",
       "Transamerica                   11\n",
       "Name: Company_Name, dtype: int64"
      ]
     },
     "execution_count": 26,
     "metadata": {},
     "output_type": "execute_result"
    }
   ],
   "source": [
    " \n",
    "(df2[\"Company_Name\"].value_counts(ascending=False).head())"
   ]
  },
  {
   "cell_type": "markdown",
   "metadata": {
    "slideshow": {
     "slide_type": "subslide"
    }
   },
   "source": [
    "Differnce between the two is one is a data frame and gives all the colunms and the second is a Series"
   ]
  },
  {
   "cell_type": "markdown",
   "metadata": {
    "slideshow": {
     "slide_type": "subslide"
    }
   },
   "source": [
    "** Summary of the whole data set**"
   ]
  },
  {
   "cell_type": "code",
   "execution_count": 25,
   "metadata": {
    "scrolled": true,
    "slideshow": {
     "slide_type": "subslide"
    }
   },
   "outputs": [
    {
     "data": {
      "text/html": [
       "<div>\n",
       "<table border=\"1\" class=\"dataframe\">\n",
       "  <thead>\n",
       "    <tr style=\"text-align: right;\">\n",
       "      <th></th>\n",
       "      <th>Company_Name</th>\n",
       "      <th>Job_Title</th>\n",
       "      <th>Location</th>\n",
       "    </tr>\n",
       "  </thead>\n",
       "  <tbody>\n",
       "    <tr>\n",
       "      <th>count</th>\n",
       "      <td>415</td>\n",
       "      <td>415</td>\n",
       "      <td>415</td>\n",
       "    </tr>\n",
       "    <tr>\n",
       "      <th>unique</th>\n",
       "      <td>194</td>\n",
       "      <td>386</td>\n",
       "      <td>71</td>\n",
       "    </tr>\n",
       "    <tr>\n",
       "      <th>top</th>\n",
       "      <td>UnityPoint Health</td>\n",
       "      <td>Software Developer</td>\n",
       "      <td>Des Moines, IA</td>\n",
       "    </tr>\n",
       "    <tr>\n",
       "      <th>freq</th>\n",
       "      <td>29</td>\n",
       "      <td>5</td>\n",
       "      <td>93</td>\n",
       "    </tr>\n",
       "  </tbody>\n",
       "</table>\n",
       "</div>"
      ],
      "text/plain": [
       "             Company_Name           Job_Title        Location\n",
       "count                 415                 415             415\n",
       "unique                194                 386              71\n",
       "top     UnityPoint Health  Software Developer  Des Moines, IA\n",
       "freq                   29                   5              93"
      ]
     },
     "execution_count": 25,
     "metadata": {},
     "output_type": "execute_result"
    }
   ],
   "source": [
    "df2.describe()"
   ]
  },
  {
   "cell_type": "markdown",
   "metadata": {
    "slideshow": {
     "slide_type": "slide"
    }
   },
   "source": [
    "Thank you for checking it out. If you see anything wrong or could be done better, faster or shorter , please let me know through any of my contact information which can be found on **<a href=\"https://isaac34mi.github.io/\">my page</a>**"
   ]
  },
  {
   "cell_type": "code",
   "execution_count": null,
   "metadata": {},
   "outputs": [],
   "source": []
  }
 ],
 "metadata": {
  "kernelspec": {
   "display_name": "Python 3",
   "language": "python",
   "name": "python3"
  },
  "language_info": {
   "codemirror_mode": {
    "name": "ipython",
    "version": 3
   },
   "file_extension": ".py",
   "mimetype": "text/x-python",
   "name": "python",
   "nbconvert_exporter": "python",
   "pygments_lexer": "ipython3",
   "version": "3.6.4"
  }
 },
 "nbformat": 4,
 "nbformat_minor": 2
}
