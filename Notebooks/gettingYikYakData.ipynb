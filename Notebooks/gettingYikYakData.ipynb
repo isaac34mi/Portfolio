{
 "cells": [
  {
   "cell_type": "markdown",
   "metadata": {},
   "source": [
    "# Getting Data from Iowa state University, UCBerkeley, BYU and Brooklyn YikYak for Analysis\n",
    "   \n",
    "**Purpose**\n",
    "The purpose of this project is to figure out:\n",
    "\n",
    "* What students like talking about most\n",
    "* What rate of thier are post postive or negative\n",
    "\n",
    "**Tools I used**\n",
    "\n",
    "For this project, I will be using python and R.\n",
    "__Python__ will be used to access the yikyak data from app and extract the neccessary information we need and save them in a csv file.\n",
    "\n",
    "__R__ will be used to analyse the text using tidytext and tidyverse libraries.\n",
    "\n",
    "**Disclaimer:**\n",
    "\n",
    "The yikyakapi was written by Louis Haddrell which I cloned from gitHub.\n",
    "\n",
    "Source and Documentation: <a href=\"https://github.com/louis-haddrell/Yik-Yak-API\">click here</a>"
   ]
  },
  {
   "cell_type": "code",
   "execution_count": 2,
   "metadata": {
    "collapsed": true
   },
   "outputs": [],
   "source": [
    "import csv\n",
    "from yikyakapi.yikyak import YikYak\n",
    "from datetime import datetime"
   ]
  },
  {
   "cell_type": "code",
   "execution_count": 6,
   "metadata": {
    "collapsed": false
   },
   "outputs": [],
   "source": [
    "class YiyakData(YikYak):\n",
    "    \n",
    "    def __init__(self, PHONE_NUMBER, USER_ID, COUNTRY_CODE = \"USA\"):\n",
    "        self.COUNTRY_CODE = COUNTRY_CODE\n",
    "        self.PHONE_NUMBER = PHONE_NUMBER\n",
    "        self.USER_ID = USER_ID\n",
    "        self.client = YikYak()\n",
    "                \n",
    "        self.school_cordinates = {\"iastate\":[42.027288, -93.646422],\"ucberkeley\":[37.87, -122.2705],\n",
    "                     \"newyork\":[40.6782, -73.9442],\"byu\":[40.251851, -111.649078] }\n",
    "        try:\n",
    "            self.client.login_id(self.COUNTRY_CODE, self.PHONE_NUMBER,self.USER_ID)\n",
    "            print(\"Singed In\")\n",
    "        except:\n",
    "            print(str(e))\n",
    "    \n",
    "    def _get_school_data(self, school):\n",
    "        try:\n",
    "            lat = self.school_cordinates[school][0]\n",
    "            lng = self.school_cordinates[school][1]\n",
    "            yaks = self.client.get_new_yaks(lat, lng)\n",
    "            hot_yaks = self.client.get_hot_yaks(lat, lng)\n",
    "            \n",
    "            return ([yak for yak in yaks],[hot for hot in hot_yaks])\n",
    "        \n",
    "        except Exception as e:\n",
    "            return {\"error\":str(e)}\n",
    "        \n",
    "    def get_current(self,school):\n",
    "        yak, hot = self._get_school_data(school)\n",
    "        return {\"current_yaks\":str(yak)[0:4], \"hot\":str(hot)[0:4]}\n",
    "    \n",
    "    def get_length(self,school):\n",
    "        yak_length, hot_length = self._get_school_data(school)\n",
    "        return {\"current\":len(yak_length), \"hot\":len(hot_length)}\n",
    "\n",
    "    def save_yak(self,school):\n",
    "        yaks, hot_yaks = self._get_school_data(school)\n",
    "        \n",
    "        #extract the data from yikyak\n",
    "        yak_results = {str(message):yaks[indx].comments for indx, message in enumerate(yaks)}\n",
    "        hot_results = {str(message):hot_yaks[indx].comments for indx, message in enumerate(hot_yaks)}\n",
    "        #time_posted = {indx:yaks[indx].time for indx, dt in enumerate(yaks)}\n",
    "        \n",
    "        #save our data into a csv file\n",
    "        file_ext=str(datetime.strftime(datetime.now(),\"%Y_%m_%d_%H%M%S\")) + \".csv\"\n",
    "        file_and_data = [(school+file_ext ,yak_results), ('hot'+school+file_ext,hot_results)] #message_comments\n",
    "        \n",
    "\n",
    "        #write the messages and the number of comments\n",
    "        for (file_name, data) in file_and_data:\n",
    "            #file_name = str(file_name + \"_\" + str(school) + \"_\" + file_ext)\n",
    "\n",
    "            with open(file_name , \"w\") as f:\n",
    "                fieldnames = ['Message', \"Number_of_replies\"]\n",
    "                writer = csv.DictWriter(f, fieldnames=fieldnames)\n",
    "\n",
    "                writer.writeheader()\n",
    "                for k, v in data.items():\n",
    "                    writer.writerow({\"Message\":k, \"Number_of_replies\":v})\n",
    "\n",
    "        return {\"results\":[{\"school_name\":str(school)},\n",
    "                           {\"status\":\"data saved\"},\n",
    "                           {\"num_of_yak\":len(yak_results)},\n",
    "                           {\"num_of_hot_yaks\":len(hot_results)}\n",
    "                          ]}\n",
    "       "
   ]
  },
  {
   "cell_type": "code",
   "execution_count": 7,
   "metadata": {
    "collapsed": false
   },
   "outputs": [
    {
     "name": "stdout",
     "output_type": "stream",
     "text": [
      "Singed In\n",
      "{'results': [{'school_name': 'iastate'}, {'status': 'data saved'}, {'num_of_yak': 92}, {'num_of_hot_yaks': 100}]}\n",
      "{'results': [{'school_name': 'ucberkeley'}, {'status': 'data saved'}, {'num_of_yak': 69}, {'num_of_hot_yaks': 98}]}\n",
      "{'results': [{'school_name': 'byu'}, {'status': 'data saved'}, {'num_of_yak': 100}, {'num_of_hot_yaks': 100}]}\n",
      "{'results': [{'school_name': 'newyork'}, {'status': 'data saved'}, {'num_of_yak': 100}, {'num_of_hot_yaks': 99}]}\n"
     ]
    }
   ],
   "source": [
    "data = YiyakData(PHONE_NUMBER = \"\", USER_ID = \"\") # you would have to provide your credentials\n",
    "print(data.save_yak(\"iastate\"))\n",
    "print(data.save_yak(\"ucberkeley\"))\n",
    "print(data.save_yak(\"byu\"))\n",
    "print(data.save_yak(\"newyork\"))"
   ]
  },
  {
   "cell_type": "code",
   "execution_count": null,
   "metadata": {
    "collapsed": true
   },
   "outputs": [],
   "source": []
  }
 ],
 "metadata": {
  "kernelspec": {
   "display_name": "Python 3",
   "language": "python",
   "name": "python3"
  },
  "language_info": {
   "codemirror_mode": {
    "name": "ipython",
    "version": 3
   },
   "file_extension": ".py",
   "mimetype": "text/x-python",
   "name": "python",
   "nbconvert_exporter": "python",
   "pygments_lexer": "ipython3",
   "version": "3.6.0"
  }
 },
 "nbformat": 4,
 "nbformat_minor": 2
}
