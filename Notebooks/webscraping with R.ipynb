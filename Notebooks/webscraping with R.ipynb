{
 "cells": [
  {
   "cell_type": "markdown",
   "metadata": {},
   "source": [
    "## Webscraping and Analysis (using tidyverse, tidytext, and rvest)\n",
    "\n",
    "This notebook is a simple tutorial on how to scrap data from the web, cleaning it (tidy) and performing some analysis on it. At the end of this tutorial, we should be able to scrap webpages, tidy the data we getr and perform some analysis on it. I learnt how to use rvest when I went to a r-ladies meet-up.(yep, \"ladies\", according to their policy men could attend so I didnt have any problems)\n",
    "\n",
    "I hope you enjoy it as I did. \n",
    "\n",
    "### fun time !!"
   ]
  },
  {
   "cell_type": "code",
   "execution_count": 1,
   "metadata": {
    "collapsed": false,
    "scrolled": true
   },
   "outputs": [
    {
     "name": "stderr",
     "output_type": "stream",
     "text": [
      "Loading tidyverse: ggplot2\n",
      "Loading tidyverse: tibble\n",
      "Loading tidyverse: tidyr\n",
      "Loading tidyverse: readr\n",
      "Loading tidyverse: purrr\n",
      "Loading tidyverse: dplyr\n",
      "Conflicts with tidy packages ---------------------------------------------------\n",
      "filter(): dplyr, stats\n",
      "lag():    dplyr, stats\n",
      "Loading required package: xml2\n",
      "\n",
      "Attaching package: 'rvest'\n",
      "\n",
      "The following object is masked from 'package:readr':\n",
      "\n",
      "    guess_encoding\n",
      "\n",
      "\n",
      "Attaching package: 'magrittr'\n",
      "\n",
      "The following object is masked from 'package:purrr':\n",
      "\n",
      "    set_names\n",
      "\n",
      "The following object is masked from 'package:tidyr':\n",
      "\n",
      "    extract\n",
      "\n"
     ]
    }
   ],
   "source": [
    "# if you dont have any of the libraries installed below use:\n",
    "# install.packages(<package_name>), add repos = \"https://cloud.r-project.org) if you are not using r-studio.\n",
    "\n",
    "## load the libraries\n",
    "library(tidyverse)\n",
    "library(tidytext)\n",
    "library(rvest)\n",
    "library(magrittr)\n",
    "library(stringr)"
   ]
  },
  {
   "cell_type": "markdown",
   "metadata": {},
   "source": [
    "Now that we have the libraries loaded, we can go ahead and load our html page we want to scrap. For this example I will be scraping the iris dataset from wikipedia since its open to all. I come to realize that the iris dataset is kind of like the hello world in data science.\n",
    "\n",
    "__NB:__ you can check if the library has loaded or not by using the **sessionInfo()** function and read under attach you should see the libraries there."
   ]
  },
  {
   "cell_type": "code",
   "execution_count": 3,
   "metadata": {
    "collapsed": false
   },
   "outputs": [
    {
     "data": {
      "text/plain": [
       "{xml_document}\n",
       "<html class=\"client-nojs\" lang=\"en\" dir=\"ltr\">\n",
       "[1] <head>\\n<meta http-equiv=\"Content-Type\" content=\"text/html; charset=UTF-8 ...\n",
       "[2] <body class=\"mediawiki ltr sitedir-ltr mw-hide-empty-elt ns-0 ns-subject  ..."
      ]
     },
     "metadata": {},
     "output_type": "display_data"
    }
   ],
   "source": [
    "# assigning address\n",
    "iris_url <- \"https://en.wikipedia.org/wiki/Iris_flower_data_set\"\n",
    "\n",
    "#load the html using read_html() function which take the address as an argument(parameter). \n",
    "html_page <- read_html(iris_url)\n",
    "\n",
    "#prints few lines of the html code\n",
    "html_page"
   ]
  },
  {
   "cell_type": "markdown",
   "metadata": {
    "collapsed": false,
    "scrolled": true
   },
   "source": [
    "\n",
    "We have first step and important step down. hoho!!.. Now what we are going to get the first paragraph and the dataset from the page. \n",
    "\n",
    "We will use __html_node(\"p\")__ for the getting the first paragraph or use __html_nodes(\"p\")__ to get all the paragraph and use __extract2(element_number)__ where elemet number is 1 (for 1st p) or  2 (for 2nd p) and so on. Then we finally use __html_text()__ to get just the text without any tags.\n",
    "\n",
    "Same applies for the dataset but instead of \"p\" as an argument for html_node or html_nodes it will table. and instead of html_text() we use html_table() to get our data into a nice dataFrame for analysis. \n",
    "\n",
    "__NB:__ to know what the tag is you can use developer's mode from your browser of get this tool called __selector Gadget__\n",
    "\n",
    "I also use the %>% pipe to make the code look nicer. I also learnt it from R for Data Sceince book. And the author gave a simple way to understand it. One of the simplest example I can think of is:"
   ]
  },
  {
   "cell_type": "code",
   "execution_count": 4,
   "metadata": {
    "collapsed": false,
    "scrolled": false
   },
   "outputs": [
    {
     "data": {
      "text/plain": [
       "       V1      \n",
       " Min.   : 0.7  \n",
       " 1st Qu.: 4.0  \n",
       " Median : 7.3  \n",
       " Mean   : 7.3  \n",
       " 3rd Qu.:10.6  \n",
       " Max.   :13.9  "
      ]
     },
     "metadata": {},
     "output_type": "display_data"
    },
    {
     "data": {
      "image/png": "[encoded data removed]",
      "text/plain": [
       "plot without title"
      ]
     },
     "metadata": {},
     "output_type": "display_data"
    },
    {
     "data": {
      "text/plain": [
       "   Min. 1st Qu.  Median    Mean 3rd Qu.    Max. \n",
       "  2.000   6.750   7.000   6.917   8.250   9.000 "
      ]
     },
     "metadata": {},
     "output_type": "display_data"
    },
    {
     "data": {
      "image/png": "[encoded data removed]",
      "text/plain": [
       "plot without title"
      ]
     },
     "metadata": {},
     "output_type": "display_data"
    }
   ],
   "source": [
    "x <- c(9,9,9,7,7,6,7,8,8,7,2,4) # random numbers\n",
    "x %>% \n",
    "    barplot() %>% #ramdom grapgh\n",
    "    summary() \n",
    "\n",
    "## so this read as take x then pass it to the next funtion\n",
    "\n",
    "# without the pipe will be \n",
    "\n",
    "#use see how we keep repeating the x object. \n",
    "plot(x)\n",
    "summary(x) \n"
   ]
  },
  {
   "cell_type": "code",
   "execution_count": 5,
   "metadata": {
    "collapsed": false
   },
   "outputs": [
    {
     "data": {
      "text/html": [
       "'The Iris flower data set or Fisher\\'s Iris data set is a multivariate data set introduced by Ronald Fisher in his 1936 paper The use of multiple measurements in taxonomic problems as an example of linear discriminant analysis.[1] It is sometimes called Anderson's Iris data set because Edgar Anderson collected the data to quantify the morphologic variation of Iris flowers of three related species.[2] Two of the three species were collected in the Gaspé Peninsula \"all from the same pasture, and picked on the same day and measured at the same time by the same person with the same apparatus\".[3]'"
      ],
      "text/latex": [
       "'The Iris flower data set or Fisher\\textbackslash{}'s Iris data set is a multivariate data set introduced by Ronald Fisher in his 1936 paper The use of multiple measurements in taxonomic problems as an example of linear discriminant analysis.{[}1{]} It is sometimes called Anderson's Iris data set because Edgar Anderson collected the data to quantify the morphologic variation of Iris flowers of three related species.{[}2{]} Two of the three species were collected in the Gaspé Peninsula \"all from the same pasture, and picked on the same day and measured at the same time by the same person with the same apparatus\".{[}3{]}'"
      ],
      "text/markdown": [
       "'The Iris flower data set or Fisher\\'s Iris data set is a multivariate data set introduced by Ronald Fisher in his 1936 paper The use of multiple measurements in taxonomic problems as an example of linear discriminant analysis.[1] It is sometimes called Anderson's Iris data set because Edgar Anderson collected the data to quantify the morphologic variation of Iris flowers of three related species.[2] Two of the three species were collected in the Gaspé Peninsula \"all from the same pasture, and picked on the same day and measured at the same time by the same person with the same apparatus\".[3]'"
      ],
      "text/plain": [
       "[1] \"The Iris flower data set or Fisher's Iris data set is a multivariate data set introduced by Ronald Fisher in his 1936 paper The use of multiple measurements in taxonomic problems as an example of linear discriminant analysis.[1] It is sometimes called Anderson's Iris data set because Edgar Anderson collected the data to quantify the morphologic variation of Iris flowers of three related species.[2] Two of the three species were collected in the Gaspé Peninsula \\\"all from the same pasture, and picked on the same day and measured at the same time by the same person with the same apparatus\\\".[3]\""
      ]
     },
     "metadata": {},
     "output_type": "display_data"
    },
    {
     "data": {
      "text/html": [
       "<table>\n",
       "<thead><tr><th scope=col>Sepal length</th><th scope=col>Sepal width</th><th scope=col>Petal length</th><th scope=col>Petal width</th><th scope=col>Species</th></tr></thead>\n",
       "<tbody>\n",
       "\t<tr><td>5.1      </td><td>3.5      </td><td>1.4      </td><td>0.2      </td><td>I. setosa</td></tr>\n",
       "\t<tr><td>4.9      </td><td>3.0      </td><td>1.4      </td><td>0.2      </td><td>I. setosa</td></tr>\n",
       "\t<tr><td>4.7      </td><td>3.2      </td><td>1.3      </td><td>0.2      </td><td>I. setosa</td></tr>\n",
       "\t<tr><td>4.6      </td><td>3.1      </td><td>1.5      </td><td>0.2      </td><td>I. setosa</td></tr>\n",
       "\t<tr><td>5.0      </td><td>3.6      </td><td>1.4      </td><td>0.2      </td><td>I. setosa</td></tr>\n",
       "\t<tr><td>5.4      </td><td>3.9      </td><td>1.7      </td><td>0.4      </td><td>I. setosa</td></tr>\n",
       "</tbody>\n",
       "</table>\n"
      ],
      "text/latex": [
       "\\begin{tabular}{r|lllll}\n",
       " Sepal length & Sepal width & Petal length & Petal width & Species\\\\\n",
       "\\hline\n",
       "\t 5.1       & 3.5       & 1.4       & 0.2       & I. setosa\\\\\n",
       "\t 4.9       & 3.0       & 1.4       & 0.2       & I. setosa\\\\\n",
       "\t 4.7       & 3.2       & 1.3       & 0.2       & I. setosa\\\\\n",
       "\t 4.6       & 3.1       & 1.5       & 0.2       & I. setosa\\\\\n",
       "\t 5.0       & 3.6       & 1.4       & 0.2       & I. setosa\\\\\n",
       "\t 5.4       & 3.9       & 1.7       & 0.4       & I. setosa\\\\\n",
       "\\end{tabular}\n"
      ],
      "text/markdown": [
       "\n",
       "Sepal length | Sepal width | Petal length | Petal width | Species | \n",
       "|---|---|---|---|---|---|\n",
       "| 5.1       | 3.5       | 1.4       | 0.2       | I. setosa | \n",
       "| 4.9       | 3.0       | 1.4       | 0.2       | I. setosa | \n",
       "| 4.7       | 3.2       | 1.3       | 0.2       | I. setosa | \n",
       "| 4.6       | 3.1       | 1.5       | 0.2       | I. setosa | \n",
       "| 5.0       | 3.6       | 1.4       | 0.2       | I. setosa | \n",
       "| 5.4       | 3.9       | 1.7       | 0.4       | I. setosa | \n",
       "\n",
       "\n"
      ],
      "text/plain": [
       "  Sepal length Sepal width Petal length Petal width Species  \n",
       "1 5.1          3.5         1.4          0.2         I. setosa\n",
       "2 4.9          3.0         1.4          0.2         I. setosa\n",
       "3 4.7          3.2         1.3          0.2         I. setosa\n",
       "4 4.6          3.1         1.5          0.2         I. setosa\n",
       "5 5.0          3.6         1.4          0.2         I. setosa\n",
       "6 5.4          3.9         1.7          0.4         I. setosa"
      ]
     },
     "metadata": {},
     "output_type": "display_data"
    },
    {
     "data": {
      "text/html": [
       "<table>\n",
       "<thead><tr><th scope=col>Sepal_length</th><th scope=col>Sepal_width</th><th scope=col>Petal_length</th><th scope=col>Petal_width</th><th scope=col>Species</th></tr></thead>\n",
       "<tbody>\n",
       "\t<tr><td>5.1      </td><td>3.5      </td><td>1.4      </td><td>0.2      </td><td>I. setosa</td></tr>\n",
       "\t<tr><td>4.9      </td><td>3.0      </td><td>1.4      </td><td>0.2      </td><td>I. setosa</td></tr>\n",
       "\t<tr><td>4.7      </td><td>3.2      </td><td>1.3      </td><td>0.2      </td><td>I. setosa</td></tr>\n",
       "\t<tr><td>4.6      </td><td>3.1      </td><td>1.5      </td><td>0.2      </td><td>I. setosa</td></tr>\n",
       "\t<tr><td>5.0      </td><td>3.6      </td><td>1.4      </td><td>0.2      </td><td>I. setosa</td></tr>\n",
       "\t<tr><td>5.4      </td><td>3.9      </td><td>1.7      </td><td>0.4      </td><td>I. setosa</td></tr>\n",
       "</tbody>\n",
       "</table>\n"
      ],
      "text/latex": [
       "\\begin{tabular}{r|lllll}\n",
       " Sepal\\_length & Sepal\\_width & Petal\\_length & Petal\\_width & Species\\\\\n",
       "\\hline\n",
       "\t 5.1       & 3.5       & 1.4       & 0.2       & I. setosa\\\\\n",
       "\t 4.9       & 3.0       & 1.4       & 0.2       & I. setosa\\\\\n",
       "\t 4.7       & 3.2       & 1.3       & 0.2       & I. setosa\\\\\n",
       "\t 4.6       & 3.1       & 1.5       & 0.2       & I. setosa\\\\\n",
       "\t 5.0       & 3.6       & 1.4       & 0.2       & I. setosa\\\\\n",
       "\t 5.4       & 3.9       & 1.7       & 0.4       & I. setosa\\\\\n",
       "\\end{tabular}\n"
      ],
      "text/markdown": [
       "\n",
       "Sepal_length | Sepal_width | Petal_length | Petal_width | Species | \n",
       "|---|---|---|---|---|---|\n",
       "| 5.1       | 3.5       | 1.4       | 0.2       | I. setosa | \n",
       "| 4.9       | 3.0       | 1.4       | 0.2       | I. setosa | \n",
       "| 4.7       | 3.2       | 1.3       | 0.2       | I. setosa | \n",
       "| 4.6       | 3.1       | 1.5       | 0.2       | I. setosa | \n",
       "| 5.0       | 3.6       | 1.4       | 0.2       | I. setosa | \n",
       "| 5.4       | 3.9       | 1.7       | 0.4       | I. setosa | \n",
       "\n",
       "\n"
      ],
      "text/plain": [
       "  Sepal_length Sepal_width Petal_length Petal_width Species  \n",
       "1 5.1          3.5         1.4          0.2         I. setosa\n",
       "2 4.9          3.0         1.4          0.2         I. setosa\n",
       "3 4.7          3.2         1.3          0.2         I. setosa\n",
       "4 4.6          3.1         1.5          0.2         I. setosa\n",
       "5 5.0          3.6         1.4          0.2         I. setosa\n",
       "6 5.4          3.9         1.7          0.4         I. setosa"
      ]
     },
     "metadata": {},
     "output_type": "display_data"
    }
   ],
   "source": [
    "# getting the first paragraph\n",
    "html_page %>%\n",
    "    html_node(\"p\") %>%\n",
    "    html_text()\n",
    "\n",
    "#getting the datasets\n",
    "iris_table <- html_page %>%\n",
    "                    html_nodes(\"table\") %>%\n",
    "                    extract2(1) %>%\n",
    "                    html_table(header = TRUE)\n",
    "\n",
    "#take a peak at your data                     \n",
    "head(iris_table)\n",
    "\n",
    "# now we want to change the column name to one word so its easy to access the minstead of wrapping it with \"\" all the time\n",
    "# so we will use str_replace in the stringr package\n",
    "names(iris_table) <- str_replace((names(iris_table)), \" \", \"_\")\n",
    "\n",
    "# take another peak to see if the changes took place\n",
    "head(iris_table)"
   ]
  },
  {
   "cell_type": "markdown",
   "metadata": {
    "collapsed": false,
    "scrolled": true
   },
   "source": [
    "We are done!!. Easay right? Bettter than copy and paste. One way to know all the functions an what it entiles is using the __help(package=\"package_name)__ function (if only there is a documentaion) or sometime i use the tab button to see some of the other attributes it has and google them to read about what they do. Example is html.(then i press the tab)\n",
    "\n",
    "## Example #2\n",
    "So this example is based on what I learnt at r-ladies. I decided to use it because its intreasting. I wont say whats intreating about it right now. We will all find it togther :). But I will tell you what we are going to do.\n",
    "\n",
    "For this example, we are going to extract Inaugural Addresses from past and Presidents of the U.S. There is a website \"http://avalon.law.yale.edu/subject_menus/inaug.asp\" that has most of the speeches except Obama 2013, Trump 2017, VanBuren 1837, Buchanan 1857, Garfield 1881, and Coolidge 1925 (as far I know)"
   ]
  },
  {
   "cell_type": "code",
   "execution_count": 124,
   "metadata": {
    "collapsed": false
   },
   "outputs": [
    {
     "data": {
      "text/html": [
       "<table>\n",
       "<thead><tr><th scope=col>President</th><th scope=col>1st Term</th><th scope=col>2nd Term</th><th scope=col>3rd Term</th><th scope=col>4th Term</th></tr></thead>\n",
       "<tbody>\n",
       "\t<tr><td>George Washington</td><td>1789             </td><td>1793             </td><td>NA               </td><td>NA               </td></tr>\n",
       "\t<tr><td>John Adams       </td><td>1797             </td><td>  NA             </td><td>NA               </td><td>NA               </td></tr>\n",
       "\t<tr><td>Thomas Jefferson </td><td>1801             </td><td>1805             </td><td>NA               </td><td>NA               </td></tr>\n",
       "\t<tr><td>James Madison    </td><td>1809             </td><td>1813             </td><td>NA               </td><td>NA               </td></tr>\n",
       "\t<tr><td>James Monroe     </td><td>1817             </td><td>1821             </td><td>NA               </td><td>NA               </td></tr>\n",
       "\t<tr><td>John Quincy Adams</td><td>1825             </td><td>  NA             </td><td>NA               </td><td>NA               </td></tr>\n",
       "</tbody>\n",
       "</table>\n"
      ],
      "text/latex": [
       "\\begin{tabular}{r|lllll}\n",
       " President & 1st Term & 2nd Term & 3rd Term & 4th Term\\\\\n",
       "\\hline\n",
       "\t George Washington & 1789              & 1793              & NA                & NA               \\\\\n",
       "\t John Adams        & 1797              &   NA              & NA                & NA               \\\\\n",
       "\t Thomas Jefferson  & 1801              & 1805              & NA                & NA               \\\\\n",
       "\t James Madison     & 1809              & 1813              & NA                & NA               \\\\\n",
       "\t James Monroe      & 1817              & 1821              & NA                & NA               \\\\\n",
       "\t John Quincy Adams & 1825              &   NA              & NA                & NA               \\\\\n",
       "\\end{tabular}\n"
      ],
      "text/markdown": [
       "\n",
       "President | 1st Term | 2nd Term | 3rd Term | 4th Term | \n",
       "|---|---|---|---|---|---|\n",
       "| George Washington | 1789              | 1793              | NA                | NA                | \n",
       "| John Adams        | 1797              |   NA              | NA                | NA                | \n",
       "| Thomas Jefferson  | 1801              | 1805              | NA                | NA                | \n",
       "| James Madison     | 1809              | 1813              | NA                | NA                | \n",
       "| James Monroe      | 1817              | 1821              | NA                | NA                | \n",
       "| John Quincy Adams | 1825              |   NA              | NA                | NA                | \n",
       "\n",
       "\n"
      ],
      "text/plain": [
       "  President         1st Term 2nd Term 3rd Term 4th Term\n",
       "1 George Washington 1789     1793     NA       NA      \n",
       "2 John Adams        1797       NA     NA       NA      \n",
       "3 Thomas Jefferson  1801     1805     NA       NA      \n",
       "4 James Madison     1809     1813     NA       NA      \n",
       "5 James Monroe      1817     1821     NA       NA      \n",
       "6 John Quincy Adams 1825       NA     NA       NA      "
      ]
     },
     "metadata": {},
     "output_type": "display_data"
    }
   ],
   "source": [
    "inaugral_url <- \"http://avalon.law.yale.edu/subject_menus/inaug.asp\"\n",
    "read_inaugral <- read_html(inaugral_url)\n",
    "\n",
    "## by using the selectorGadget tool i know that all the data are in the 2nd table(i.e President name. and terms(up to 4th term))\n",
    "\n",
    "inaugral_data <- read_inaugral %>%\n",
    "                    html_nodes(\"table\") %>%\n",
    "                    extract2(3) %>%\n",
    "                    html_table(header = TRUE, fill = TRUE)\n",
    "\n",
    "# #now that we have the data we can peak to see if we did it write\n",
    " head(inaugral_data)"
   ]
  },
  {
   "cell_type": "markdown",
   "metadata": {},
   "source": [
    "#### doesn't really look good right? Because without knowing what we are doing, it would be hard for someone to know what the values under the 1st term actually mean. So we will do some tidy. "
   ]
  },
  {
   "cell_type": "code",
   "execution_count": 125,
   "metadata": {
    "collapsed": false,
    "scrolled": true
   },
   "outputs": [
    {
     "data": {
      "text/html": [
       "<table>\n",
       "<thead><tr><th scope=col>President</th><th scope=col>term</th><th scope=col>year</th></tr></thead>\n",
       "<tbody>\n",
       "\t<tr><td>George Washington</td><td>1st Term         </td><td>1789             </td></tr>\n",
       "\t<tr><td>George Washington</td><td>2nd Term         </td><td>1793             </td></tr>\n",
       "\t<tr><td>John Adams       </td><td>1st Term         </td><td>1797             </td></tr>\n",
       "\t<tr><td>Thomas Jefferson </td><td>1st Term         </td><td>1801             </td></tr>\n",
       "\t<tr><td>Thomas Jefferson </td><td>2nd Term         </td><td>1805             </td></tr>\n",
       "\t<tr><td>James Madison    </td><td>1st Term         </td><td>1809             </td></tr>\n",
       "</tbody>\n",
       "</table>\n"
      ],
      "text/latex": [
       "\\begin{tabular}{r|lll}\n",
       " President & term & year\\\\\n",
       "\\hline\n",
       "\t George Washington & 1st Term          & 1789             \\\\\n",
       "\t George Washington & 2nd Term          & 1793             \\\\\n",
       "\t John Adams        & 1st Term          & 1797             \\\\\n",
       "\t Thomas Jefferson  & 1st Term          & 1801             \\\\\n",
       "\t Thomas Jefferson  & 2nd Term          & 1805             \\\\\n",
       "\t James Madison     & 1st Term          & 1809             \\\\\n",
       "\\end{tabular}\n"
      ],
      "text/markdown": [
       "\n",
       "President | term | year | \n",
       "|---|---|---|---|---|---|\n",
       "| George Washington | 1st Term          | 1789              | \n",
       "| George Washington | 2nd Term          | 1793              | \n",
       "| John Adams        | 1st Term          | 1797              | \n",
       "| Thomas Jefferson  | 1st Term          | 1801              | \n",
       "| Thomas Jefferson  | 2nd Term          | 1805              | \n",
       "| James Madison     | 1st Term          | 1809              | \n",
       "\n",
       "\n"
      ],
      "text/plain": [
       "  President         term     year\n",
       "1 George Washington 1st Term 1789\n",
       "2 George Washington 2nd Term 1793\n",
       "3 John Adams        1st Term 1797\n",
       "4 Thomas Jefferson  1st Term 1801\n",
       "5 Thomas Jefferson  2nd Term 1805\n",
       "6 James Madison     1st Term 1809"
      ]
     },
     "metadata": {},
     "output_type": "display_data"
    }
   ],
   "source": [
    "inaugral_data_tidy <- inaugral_data %>%\n",
    "                        gather(term, year, -President) %>%\n",
    "                        filter(!is.na(year)) %>%\n",
    "                        #select(-term) %>%\n",
    "                        arrange(year)\n",
    "\n",
    "head(inaugral_data_tidy) # looks much better yeah? "
   ]
  },
  {
   "cell_type": "markdown",
   "metadata": {
    "collapsed": false
   },
   "source": [
    "### now lets get the link to each years inaugral addresss\n",
    "\n",
    " To get hte links from the page we will still use our __html_nodes(\"a\")__ to get all the links from the page and use __html_attr(\"href\")__ to get the address from the link. \n",
    " \n",
    "so __a href=\"../18th_century/wash1.asp\">1789/a__ (didn't add the tag because so it doesn't creat a link) is an example of the output of __html_node__(\"a\") and \"**../18th_century/wash1.asp**\" will be the output for __html_attr(\"href\")__\n",
    "\n",
    "so I next i will to the website itself to find the address of the link(you can find this by righ cliking on the link and click inspect) i want and also to study the pattern in which the links are constructed. "
   ]
  },
  {
   "cell_type": "code",
   "execution_count": 22,
   "metadata": {
    "collapsed": false
   },
   "outputs": [
    {
     "data": {
      "text/html": [
       "<ol class=list-inline>\n",
       "\t<li>12</li>\n",
       "\t<li>67</li>\n",
       "</ol>\n"
      ],
      "text/latex": [
       "\\begin{enumerate*}\n",
       "\\item 12\n",
       "\\item 67\n",
       "\\end{enumerate*}\n"
      ],
      "text/markdown": [
       "1. 12\n",
       "2. 67\n",
       "\n",
       "\n"
      ],
      "text/plain": [
       "[1] 12 67"
      ]
     },
     "metadata": {},
     "output_type": "display_data"
    }
   ],
   "source": [
    "# get the the link from page \n",
    "inaugaral_sublinks <- (read_inaugral %>%\n",
    "                   html_nodes(\"a\") %>%\n",
    "                   html_attr(\"href\"))\n",
    "# since we know the first and last link we need we can find thier index using which\n",
    "which(inaugaral_sublinks %in% c(\"../18th_century/wash1.asp\",\"../21st_century/obama.asp\"))\n",
    "\n",
    "#we could have gone ahead and added the above code by doing:\n",
    "# ind <- which(inaugaral_sublinks %in% c(\"../18th_century/wash1.asp\",\"../21st_century/obama.asp\"))\n",
    "#inaugaral_sublinks[ind[1]:ind[2]]\n",
    "# but i like to see my output before proceding but because i dont like hard coding i will use the above method letter"
   ]
  },
  {
   "cell_type": "code",
   "execution_count": 46,
   "metadata": {
    "collapsed": false
   },
   "outputs": [
    {
     "data": {
      "text/html": [
       "<table>\n",
       "<thead><tr><th scope=col>President</th><th scope=col>term</th><th scope=col>year</th><th scope=col>url</th></tr></thead>\n",
       "<tbody>\n",
       "\t<tr><td>George Washington                                   </td><td>1st Term                                            </td><td>1789                                                </td><td>http://avalon.law.yale.edu/18th_century/wash1.asp   </td></tr>\n",
       "\t<tr><td>George Washington                                   </td><td>2nd Term                                            </td><td>1793                                                </td><td>http://avalon.law.yale.edu/18th_century/wash2.asp   </td></tr>\n",
       "\t<tr><td>John Adams                                          </td><td>1st Term                                            </td><td>1797                                                </td><td>http://avalon.law.yale.edu/18th_century/adams.asp   </td></tr>\n",
       "\t<tr><td>Thomas Jefferson                                    </td><td>1st Term                                            </td><td>1801                                                </td><td>http://avalon.law.yale.edu/19th_century/jefinau1.asp</td></tr>\n",
       "\t<tr><td>Thomas Jefferson                                    </td><td>2nd Term                                            </td><td>1805                                                </td><td>http://avalon.law.yale.edu/19th_century/jefinau2.asp</td></tr>\n",
       "\t<tr><td>James Madison                                       </td><td>1st Term                                            </td><td>1809                                                </td><td>http://avalon.law.yale.edu/19th_century/madison1.asp</td></tr>\n",
       "</tbody>\n",
       "</table>\n"
      ],
      "text/latex": [
       "\\begin{tabular}{r|llll}\n",
       " President & term & year & url\\\\\n",
       "\\hline\n",
       "\t George Washington                                      & 1st Term                                               & 1789                                                   & http://avalon.law.yale.edu/18th\\_century/wash1.asp   \\\\\n",
       "\t George Washington                                      & 2nd Term                                               & 1793                                                   & http://avalon.law.yale.edu/18th\\_century/wash2.asp   \\\\\n",
       "\t John Adams                                             & 1st Term                                               & 1797                                                   & http://avalon.law.yale.edu/18th\\_century/adams.asp   \\\\\n",
       "\t Thomas Jefferson                                       & 1st Term                                               & 1801                                                   & http://avalon.law.yale.edu/19th\\_century/jefinau1.asp\\\\\n",
       "\t Thomas Jefferson                                       & 2nd Term                                               & 1805                                                   & http://avalon.law.yale.edu/19th\\_century/jefinau2.asp\\\\\n",
       "\t James Madison                                          & 1st Term                                               & 1809                                                   & http://avalon.law.yale.edu/19th\\_century/madison1.asp\\\\\n",
       "\\end{tabular}\n"
      ],
      "text/markdown": [
       "\n",
       "President | term | year | url | \n",
       "|---|---|---|---|---|---|\n",
       "| George Washington                                    | 1st Term                                             | 1789                                                 | http://avalon.law.yale.edu/18th_century/wash1.asp    | \n",
       "| George Washington                                    | 2nd Term                                             | 1793                                                 | http://avalon.law.yale.edu/18th_century/wash2.asp    | \n",
       "| John Adams                                           | 1st Term                                             | 1797                                                 | http://avalon.law.yale.edu/18th_century/adams.asp    | \n",
       "| Thomas Jefferson                                     | 1st Term                                             | 1801                                                 | http://avalon.law.yale.edu/19th_century/jefinau1.asp | \n",
       "| Thomas Jefferson                                     | 2nd Term                                             | 1805                                                 | http://avalon.law.yale.edu/19th_century/jefinau2.asp | \n",
       "| James Madison                                        | 1st Term                                             | 1809                                                 | http://avalon.law.yale.edu/19th_century/madison1.asp | \n",
       "\n",
       "\n"
      ],
      "text/plain": [
       "  President         term     year\n",
       "1 George Washington 1st Term 1789\n",
       "2 George Washington 2nd Term 1793\n",
       "3 John Adams        1st Term 1797\n",
       "4 Thomas Jefferson  1st Term 1801\n",
       "5 Thomas Jefferson  2nd Term 1805\n",
       "6 James Madison     1st Term 1809\n",
       "  url                                                 \n",
       "1 http://avalon.law.yale.edu/18th_century/wash1.asp   \n",
       "2 http://avalon.law.yale.edu/18th_century/wash2.asp   \n",
       "3 http://avalon.law.yale.edu/18th_century/adams.asp   \n",
       "4 http://avalon.law.yale.edu/19th_century/jefinau1.asp\n",
       "5 http://avalon.law.yale.edu/19th_century/jefinau2.asp\n",
       "6 http://avalon.law.yale.edu/19th_century/madison1.asp"
      ]
     },
     "metadata": {},
     "output_type": "display_data"
    }
   ],
   "source": [
    "## now we know their index we can subset the links that we need\n",
    "ind <- which(inaugaral_sublinks %in% c(\"../18th_century/wash1.asp\",\"../21st_century/gbush2.asp\"))\n",
    "inaugaral_sublinks <- inaugaral_sublinks[ind[1]:ind[2]]\n",
    "\n",
    "# now lets create the urls to get the speeches from \n",
    "urlstump <- \"http://avalon.law.yale.edu/\"\n",
    "inaugaral_full_links <- paste0(urlstump, str_replace(inaugaral_sublinks, \"../\", \"\"))\n",
    "\n",
    "inaugral_data_tidy$url <- inaugaral_full_links # this create a new column url wiht each corresponding url\n",
    "\n",
    "#take a peak\n",
    "head(inaugral_data_tidy)"
   ]
  },
  {
   "cell_type": "markdown",
   "metadata": {
    "collapsed": true
   },
   "source": [
    "we are almost done. Now are have that we need so we will go ahead and scrap the speeches."
   ]
  },
  {
   "cell_type": "code",
   "execution_count": 50,
   "metadata": {
    "collapsed": false,
    "scrolled": false
   },
   "outputs": [
    {
     "name": "stderr",
     "output_type": "stream",
     "text": [
      "Warning message:\n",
      "\"closing unused connection 4 (http://avalon.law.yale.edu/19th_century/vanburen.asp)\"Warning message:\n",
      "\"closing unused connection 5 (http://avalon.law.yale.edu/19th_century/garfield.asp)\"Warning message:\n",
      "\"closing unused connection 4 (http://avalon.law.yale.edu/19th_century/buchanan.asp)\"Warning message:\n",
      "\"closing unused connection 4 (http://avalon.law.yale.edu/20th_century/coolidge.asp)\""
     ]
    },
    {
     "data": {
      "text/html": [
       "<ol class=list-inline>\n",
       "\t<li>' Fellow-Citizens of the Senate and of the House of Representatives: '</li>\n",
       "\t<li>'Among the vicissitudes incident to life no event could have filled me with greater anxieties than that of which the notification was transmitted by your order, and received on the 14th day of the present month. On the one hand, I was summoned by my Country, whose voice I can never hear but with veneration and love, from a retreat which I had chosen with the fondest predilection, and, in my flattering hopes, with an immutable decision, as the asylum of my declining years--a retreat which was rendered every day more necessary as well as more dear to me by the addition of habit to inclination, and of frequent interruptions in my health to the gradual waste committed on it by time. On the other hand, the magnitude and difficulty of the trust to which the voice of my country called me, being sufficient to awaken in the wisest and most experienced of her citizens a distrustful scrutiny into his qualifications, could not but overwhelm with despondence one who (inheriting inferior endowments from nature and unpracticed in the duties of civil administration) ought to be peculiarly conscious of his own deficiencies. In this conflict of emotions all I dare aver is that it has been my faithful study to collect my duty from a just appreciation of every circumstance by which it might be affected. All I dare hope is that if, in executing this task, I have been too much swayed by a grateful remembrance of former instances, or by an affectionate sensibility to this transcendent proof of the confidence of my fellow-citizens, and have thence too little consulted my incapacity as well as disinclination for the weighty and untried cares before me, my error will be palliated by the motives which mislead me, and its consequences be judged by my country with some share of the partiality in which they originated. '</li>\n",
       "\t<li>'Such being the impressions under which I have, in obedience to the public summons, repaired to the present station, it would be peculiarly improper to omit in this first official act my fervent supplications to that Almighty Being who rules over the universe, who presides in the councils of nations, and whose providential aids can supply every human defect, that His benediction may consecrate to the liberties and happiness of the people of the United States a Government instituted by themselves for these essential purposes, and may enable every instrument employed in its administration to execute with success the functions allotted to his charge. In tendering this homage to the Great Author of every public and private good, I assure myself that it expresses your sentiments not less than my own, nor those of my fellow- citizens at large less than either. No people can be bound to acknowledge and adore the Invisible Hand which conducts the affairs of men more than those of the United States. Every step by which they have advanced to the character of an independent nation seems to have been distinguished by some token of providential agency; and in the important revolution just accomplished in the system of their united government the tranquil deliberations and voluntary consent of so many distinct communities from which the event has resulted can not be compared with the means by which most governments have been established without some return of pious gratitude, along with an humble anticipation of the future blessings which the past seem to presage. These reflections, arising out of the present crisis, have forced themselves too strongly on my mind to be suppressed. You will join with me, I trust, in thinking that there are none under the influence of which the proceedings of a new and free government can more auspiciously commence. '</li>\n",
       "\t<li>'By the article establishing the executive department it is made the duty of the President \"to recommend to your consideration such measures as he shall judge necessary and expedient.\" The circumstances under which I now meet you will acquit me from entering into that subject further than to refer to the great constitutional charter under which you are assembled, and which, in defining your powers, designates the objects to which your attention is to be given. It will be more consistent with those circumstances, and far more congenial with the feelings which actuate me, to substitute, in place of a recommendation of particular measures, the tribute that is due to the talents, the rectitude, and the patriotism which adorn the characters selected to devise and adopt them. In these honorable qualifications I behold the surest pledges that as on one side no local prejudices or attachments, no separate views nor party animosities, will misdirect the comprehensive and equal eye which ought to watch over this great assemblage of communities and interests, so, on another, that the foundation of our national policy will be laid in the pure and immutable principles of private morality, and the preeminence of free government be exemplified by all the attributes which can win the affections of its citizens and command the respect of the world. I dwell on this prospect with every satisfaction which an ardent love for my country can inspire, since there is no truth more thoroughly established than that there exists in the economy and course of nature an indissoluble union between virtue and happiness; between duty and advantage; between the genuine maxims of an honest and magnanimous policy and the solid rewards of public prosperity and felicity; since we ought to be no less persuaded that the propitious smiles of Heaven can never be expected on a nation that disregards the eternal rules of order and right which Heaven itself has ordained; and since the preservation of the sacred fire of liberty and the destiny of the republican model of government are justly considered, perhaps, as deeply, as finally, staked on the experiment entrusted to the hands of the American people. '</li>\n",
       "\t<li>'Besides the ordinary objects submitted to your care, it will remain with your judgment to decide how far an exercise of the occasional power delegated by the fifth article of the Constitution is rendered expedient at the present juncture by the nature of objections which have been urged against the system, or by the degree of inquietude which has given birth to them. Instead of undertaking particular recommendations on this subject, in which I could be guided by no lights derived from official opportunities, I shall again give way to my entire confidence in your discernment and pursuit of the public good; for I assure myself that whilst you carefully avoid every alteration which might endanger the benefits of an united and effective government, or which ought to await the future lessons of experience, a reverence for the characteristic rights of freemen and a regard for the public harmony will sufficiently influence your deliberations on the question how far the former can be impregnably fortified or the latter be safely and advantageously promoted. '</li>\n",
       "\t<li>'To the foregoing observations I have one to add, which will be most properly addressed to the House of Representatives. It concerns myself, and will therefore be as brief as possible. When I was first honored with a call into the service of my country, then on the eve of an arduous struggle for its liberties, the light in which I contemplated my duty required that I should renounce every pecuniary compensation. From this resolution I have in no instance departed; and being still under the impressions which produced it, I must decline as inapplicable to myself any share in the personal emoluments which may be indispensably included in a permanent provision for the executive department, and must accordingly pray that the pecuniary estimates for the station in which I am placed may during my continuance in it be limited to such actual expenditures as the public good may be thought to require. '</li>\n",
       "\t<li>'Having thus imparted to you my sentiments as they have been awakened by the occasion which brings us together, I shall take my present leave; but not without resorting once more to the benign Parent of the Human Race in humble supplication that, since He has been pleased to favor the American people with opportunities for deliberating in perfect tranquillity, and dispositions for deciding with unparalleled unanimity on a form of government for the security of their union and the advancement of their happiness, so His divine blessing may be equally conspicuous in the enlarged views, the temperate consultations, and the wise measures on which the success of this Government must depend. '</li>\n",
       "</ol>\n"
      ],
      "text/latex": [
       "\\begin{enumerate*}\n",
       "\\item ' Fellow-Citizens of the Senate and of the House of Representatives: '\n",
       "\\item 'Among the vicissitudes incident to life no event could have filled me with greater anxieties than that of which the notification was transmitted by your order, and received on the 14th day of the present month. On the one hand, I was summoned by my Country, whose voice I can never hear but with veneration and love, from a retreat which I had chosen with the fondest predilection, and, in my flattering hopes, with an immutable decision, as the asylum of my declining years--a retreat which was rendered every day more necessary as well as more dear to me by the addition of habit to inclination, and of frequent interruptions in my health to the gradual waste committed on it by time. On the other hand, the magnitude and difficulty of the trust to which the voice of my country called me, being sufficient to awaken in the wisest and most experienced of her citizens a distrustful scrutiny into his qualifications, could not but overwhelm with despondence one who (inheriting inferior endowments from nature and unpracticed in the duties of civil administration) ought to be peculiarly conscious of his own deficiencies. In this conflict of emotions all I dare aver is that it has been my faithful study to collect my duty from a just appreciation of every circumstance by which it might be affected. All I dare hope is that if, in executing this task, I have been too much swayed by a grateful remembrance of former instances, or by an affectionate sensibility to this transcendent proof of the confidence of my fellow-citizens, and have thence too little consulted my incapacity as well as disinclination for the weighty and untried cares before me, my error will be palliated by the motives which mislead me, and its consequences be judged by my country with some share of the partiality in which they originated. '\n",
       "\\item 'Such being the impressions under which I have, in obedience to the public summons, repaired to the present station, it would be peculiarly improper to omit in this first official act my fervent supplications to that Almighty Being who rules over the universe, who presides in the councils of nations, and whose providential aids can supply every human defect, that His benediction may consecrate to the liberties and happiness of the people of the United States a Government instituted by themselves for these essential purposes, and may enable every instrument employed in its administration to execute with success the functions allotted to his charge. In tendering this homage to the Great Author of every public and private good, I assure myself that it expresses your sentiments not less than my own, nor those of my fellow- citizens at large less than either. No people can be bound to acknowledge and adore the Invisible Hand which conducts the affairs of men more than those of the United States. Every step by which they have advanced to the character of an independent nation seems to have been distinguished by some token of providential agency; and in the important revolution just accomplished in the system of their united government the tranquil deliberations and voluntary consent of so many distinct communities from which the event has resulted can not be compared with the means by which most governments have been established without some return of pious gratitude, along with an humble anticipation of the future blessings which the past seem to presage. These reflections, arising out of the present crisis, have forced themselves too strongly on my mind to be suppressed. You will join with me, I trust, in thinking that there are none under the influence of which the proceedings of a new and free government can more auspiciously commence. '\n",
       "\\item 'By the article establishing the executive department it is made the duty of the President \"to recommend to your consideration such measures as he shall judge necessary and expedient.\" The circumstances under which I now meet you will acquit me from entering into that subject further than to refer to the great constitutional charter under which you are assembled, and which, in defining your powers, designates the objects to which your attention is to be given. It will be more consistent with those circumstances, and far more congenial with the feelings which actuate me, to substitute, in place of a recommendation of particular measures, the tribute that is due to the talents, the rectitude, and the patriotism which adorn the characters selected to devise and adopt them. In these honorable qualifications I behold the surest pledges that as on one side no local prejudices or attachments, no separate views nor party animosities, will misdirect the comprehensive and equal eye which ought to watch over this great assemblage of communities and interests, so, on another, that the foundation of our national policy will be laid in the pure and immutable principles of private morality, and the preeminence of free government be exemplified by all the attributes which can win the affections of its citizens and command the respect of the world. I dwell on this prospect with every satisfaction which an ardent love for my country can inspire, since there is no truth more thoroughly established than that there exists in the economy and course of nature an indissoluble union between virtue and happiness; between duty and advantage; between the genuine maxims of an honest and magnanimous policy and the solid rewards of public prosperity and felicity; since we ought to be no less persuaded that the propitious smiles of Heaven can never be expected on a nation that disregards the eternal rules of order and right which Heaven itself has ordained; and since the preservation of the sacred fire of liberty and the destiny of the republican model of government are justly considered, perhaps, as deeply, as finally, staked on the experiment entrusted to the hands of the American people. '\n",
       "\\item 'Besides the ordinary objects submitted to your care, it will remain with your judgment to decide how far an exercise of the occasional power delegated by the fifth article of the Constitution is rendered expedient at the present juncture by the nature of objections which have been urged against the system, or by the degree of inquietude which has given birth to them. Instead of undertaking particular recommendations on this subject, in which I could be guided by no lights derived from official opportunities, I shall again give way to my entire confidence in your discernment and pursuit of the public good; for I assure myself that whilst you carefully avoid every alteration which might endanger the benefits of an united and effective government, or which ought to await the future lessons of experience, a reverence for the characteristic rights of freemen and a regard for the public harmony will sufficiently influence your deliberations on the question how far the former can be impregnably fortified or the latter be safely and advantageously promoted. '\n",
       "\\item 'To the foregoing observations I have one to add, which will be most properly addressed to the House of Representatives. It concerns myself, and will therefore be as brief as possible. When I was first honored with a call into the service of my country, then on the eve of an arduous struggle for its liberties, the light in which I contemplated my duty required that I should renounce every pecuniary compensation. From this resolution I have in no instance departed; and being still under the impressions which produced it, I must decline as inapplicable to myself any share in the personal emoluments which may be indispensably included in a permanent provision for the executive department, and must accordingly pray that the pecuniary estimates for the station in which I am placed may during my continuance in it be limited to such actual expenditures as the public good may be thought to require. '\n",
       "\\item 'Having thus imparted to you my sentiments as they have been awakened by the occasion which brings us together, I shall take my present leave; but not without resorting once more to the benign Parent of the Human Race in humble supplication that, since He has been pleased to favor the American people with opportunities for deliberating in perfect tranquillity, and dispositions for deciding with unparalleled unanimity on a form of government for the security of their union and the advancement of their happiness, so His divine blessing may be equally conspicuous in the enlarged views, the temperate consultations, and the wise measures on which the success of this Government must depend. '\n",
       "\\end{enumerate*}\n"
      ],
      "text/markdown": [
       "1. ' Fellow-Citizens of the Senate and of the House of Representatives: '\n",
       "2. 'Among the vicissitudes incident to life no event could have filled me with greater anxieties than that of which the notification was transmitted by your order, and received on the 14th day of the present month. On the one hand, I was summoned by my Country, whose voice I can never hear but with veneration and love, from a retreat which I had chosen with the fondest predilection, and, in my flattering hopes, with an immutable decision, as the asylum of my declining years--a retreat which was rendered every day more necessary as well as more dear to me by the addition of habit to inclination, and of frequent interruptions in my health to the gradual waste committed on it by time. On the other hand, the magnitude and difficulty of the trust to which the voice of my country called me, being sufficient to awaken in the wisest and most experienced of her citizens a distrustful scrutiny into his qualifications, could not but overwhelm with despondence one who (inheriting inferior endowments from nature and unpracticed in the duties of civil administration) ought to be peculiarly conscious of his own deficiencies. In this conflict of emotions all I dare aver is that it has been my faithful study to collect my duty from a just appreciation of every circumstance by which it might be affected. All I dare hope is that if, in executing this task, I have been too much swayed by a grateful remembrance of former instances, or by an affectionate sensibility to this transcendent proof of the confidence of my fellow-citizens, and have thence too little consulted my incapacity as well as disinclination for the weighty and untried cares before me, my error will be palliated by the motives which mislead me, and its consequences be judged by my country with some share of the partiality in which they originated. '\n",
       "3. 'Such being the impressions under which I have, in obedience to the public summons, repaired to the present station, it would be peculiarly improper to omit in this first official act my fervent supplications to that Almighty Being who rules over the universe, who presides in the councils of nations, and whose providential aids can supply every human defect, that His benediction may consecrate to the liberties and happiness of the people of the United States a Government instituted by themselves for these essential purposes, and may enable every instrument employed in its administration to execute with success the functions allotted to his charge. In tendering this homage to the Great Author of every public and private good, I assure myself that it expresses your sentiments not less than my own, nor those of my fellow- citizens at large less than either. No people can be bound to acknowledge and adore the Invisible Hand which conducts the affairs of men more than those of the United States. Every step by which they have advanced to the character of an independent nation seems to have been distinguished by some token of providential agency; and in the important revolution just accomplished in the system of their united government the tranquil deliberations and voluntary consent of so many distinct communities from which the event has resulted can not be compared with the means by which most governments have been established without some return of pious gratitude, along with an humble anticipation of the future blessings which the past seem to presage. These reflections, arising out of the present crisis, have forced themselves too strongly on my mind to be suppressed. You will join with me, I trust, in thinking that there are none under the influence of which the proceedings of a new and free government can more auspiciously commence. '\n",
       "4. 'By the article establishing the executive department it is made the duty of the President \"to recommend to your consideration such measures as he shall judge necessary and expedient.\" The circumstances under which I now meet you will acquit me from entering into that subject further than to refer to the great constitutional charter under which you are assembled, and which, in defining your powers, designates the objects to which your attention is to be given. It will be more consistent with those circumstances, and far more congenial with the feelings which actuate me, to substitute, in place of a recommendation of particular measures, the tribute that is due to the talents, the rectitude, and the patriotism which adorn the characters selected to devise and adopt them. In these honorable qualifications I behold the surest pledges that as on one side no local prejudices or attachments, no separate views nor party animosities, will misdirect the comprehensive and equal eye which ought to watch over this great assemblage of communities and interests, so, on another, that the foundation of our national policy will be laid in the pure and immutable principles of private morality, and the preeminence of free government be exemplified by all the attributes which can win the affections of its citizens and command the respect of the world. I dwell on this prospect with every satisfaction which an ardent love for my country can inspire, since there is no truth more thoroughly established than that there exists in the economy and course of nature an indissoluble union between virtue and happiness; between duty and advantage; between the genuine maxims of an honest and magnanimous policy and the solid rewards of public prosperity and felicity; since we ought to be no less persuaded that the propitious smiles of Heaven can never be expected on a nation that disregards the eternal rules of order and right which Heaven itself has ordained; and since the preservation of the sacred fire of liberty and the destiny of the republican model of government are justly considered, perhaps, as deeply, as finally, staked on the experiment entrusted to the hands of the American people. '\n",
       "5. 'Besides the ordinary objects submitted to your care, it will remain with your judgment to decide how far an exercise of the occasional power delegated by the fifth article of the Constitution is rendered expedient at the present juncture by the nature of objections which have been urged against the system, or by the degree of inquietude which has given birth to them. Instead of undertaking particular recommendations on this subject, in which I could be guided by no lights derived from official opportunities, I shall again give way to my entire confidence in your discernment and pursuit of the public good; for I assure myself that whilst you carefully avoid every alteration which might endanger the benefits of an united and effective government, or which ought to await the future lessons of experience, a reverence for the characteristic rights of freemen and a regard for the public harmony will sufficiently influence your deliberations on the question how far the former can be impregnably fortified or the latter be safely and advantageously promoted. '\n",
       "6. 'To the foregoing observations I have one to add, which will be most properly addressed to the House of Representatives. It concerns myself, and will therefore be as brief as possible. When I was first honored with a call into the service of my country, then on the eve of an arduous struggle for its liberties, the light in which I contemplated my duty required that I should renounce every pecuniary compensation. From this resolution I have in no instance departed; and being still under the impressions which produced it, I must decline as inapplicable to myself any share in the personal emoluments which may be indispensably included in a permanent provision for the executive department, and must accordingly pray that the pecuniary estimates for the station in which I am placed may during my continuance in it be limited to such actual expenditures as the public good may be thought to require. '\n",
       "7. 'Having thus imparted to you my sentiments as they have been awakened by the occasion which brings us together, I shall take my present leave; but not without resorting once more to the benign Parent of the Human Race in humble supplication that, since He has been pleased to favor the American people with opportunities for deliberating in perfect tranquillity, and dispositions for deciding with unparalleled unanimity on a form of government for the security of their union and the advancement of their happiness, so His divine blessing may be equally conspicuous in the enlarged views, the temperate consultations, and the wise measures on which the success of this Government must depend. '\n",
       "\n",
       "\n"
      ],
      "text/plain": [
       "[1] \" Fellow-Citizens of the Senate and of the House of Representatives: \"                                                                                                                                                                                                                                                                                                                                                                                                                                                                                                                                                                                                                                                                                                                                                                                                                                                                                                                                                                                                                                                                                                                                                                                                                                                                                                                                                                                                                                                                                                                                                                                                                                                                                                                                                                                                                                                                                                                                                                                                                                                                                                                                                                                                                   \n",
       "[2] \"Among the vicissitudes incident to life no event could have filled me with greater anxieties than that of which the notification was transmitted by your order, and received on the 14th day of the present month. On the one hand, I was summoned by my Country, whose voice I can never hear but with veneration and love, from a retreat which I had chosen with the fondest predilection, and, in my flattering hopes, with an immutable decision, as the asylum of my declining years--a retreat which was rendered every day more necessary as well as more dear to me by the addition of habit to inclination, and of frequent interruptions in my health to the gradual waste committed on it by time. On the other hand, the magnitude and difficulty of the trust to which the voice of my country called me, being sufficient to awaken in the wisest and most experienced of her citizens a distrustful scrutiny into his qualifications, could not but overwhelm with despondence one who (inheriting inferior endowments from nature and unpracticed in the duties of civil administration) ought to be peculiarly conscious of his own deficiencies. In this conflict of emotions all I dare aver is that it has been my faithful study to collect my duty from a just appreciation of every circumstance by which it might be affected. All I dare hope is that if, in executing this task, I have been too much swayed by a grateful remembrance of former instances, or by an affectionate sensibility to this transcendent proof of the confidence of my fellow-citizens, and have thence too little consulted my incapacity as well as disinclination for the weighty and untried cares before me, my error will be palliated by the motives which mislead me, and its consequences be judged by my country with some share of the partiality in which they originated. \"                                                                                                                                                                                                                                                                                                                                                                                           \n",
       "[3] \"Such being the impressions under which I have, in obedience to the public summons, repaired to the present station, it would be peculiarly improper to omit in this first official act my fervent supplications to that Almighty Being who rules over the universe, who presides in the councils of nations, and whose providential aids can supply every human defect, that His benediction may consecrate to the liberties and happiness of the people of the United States a Government instituted by themselves for these essential purposes, and may enable every instrument employed in its administration to execute with success the functions allotted to his charge. In tendering this homage to the Great Author of every public and private good, I assure myself that it expresses your sentiments not less than my own, nor those of my fellow- citizens at large less than either. No people can be bound to acknowledge and adore the Invisible Hand which conducts the affairs of men more than those of the United States. Every step by which they have advanced to the character of an independent nation seems to have been distinguished by some token of providential agency; and in the important revolution just accomplished in the system of their united government the tranquil deliberations and voluntary consent of so many distinct communities from which the event has resulted can not be compared with the means by which most governments have been established without some return of pious gratitude, along with an humble anticipation of the future blessings which the past seem to presage. These reflections, arising out of the present crisis, have forced themselves too strongly on my mind to be suppressed. You will join with me, I trust, in thinking that there are none under the influence of which the proceedings of a new and free government can more auspiciously commence. \"                                                                                                                                                                                                                                                                                                                                              \n",
       "[4] \"By the article establishing the executive department it is made the duty of the President \\\"to recommend to your consideration such measures as he shall judge necessary and expedient.\\\" The circumstances under which I now meet you will acquit me from entering into that subject further than to refer to the great constitutional charter under which you are assembled, and which, in defining your powers, designates the objects to which your attention is to be given. It will be more consistent with those circumstances, and far more congenial with the feelings which actuate me, to substitute, in place of a recommendation of particular measures, the tribute that is due to the talents, the rectitude, and the patriotism which adorn the characters selected to devise and adopt them. In these honorable qualifications I behold the surest pledges that as on one side no local prejudices or attachments, no separate views nor party animosities, will misdirect the comprehensive and equal eye which ought to watch over this great assemblage of communities and interests, so, on another, that the foundation of our national policy will be laid in the pure and immutable principles of private morality, and the preeminence of free government be exemplified by all the attributes which can win the affections of its citizens and command the respect of the world. I dwell on this prospect with every satisfaction which an ardent love for my country can inspire, since there is no truth more thoroughly established than that there exists in the economy and course of nature an indissoluble union between virtue and happiness; between duty and advantage; between the genuine maxims of an honest and magnanimous policy and the solid rewards of public prosperity and felicity; since we ought to be no less persuaded that the propitious smiles of Heaven can never be expected on a nation that disregards the eternal rules of order and right which Heaven itself has ordained; and since the preservation of the sacred fire of liberty and the destiny of the republican model of government are justly considered, perhaps, as deeply, as finally, staked on the experiment entrusted to the hands of the American people. \"\n",
       "[5] \"Besides the ordinary objects submitted to your care, it will remain with your judgment to decide how far an exercise of the occasional power delegated by the fifth article of the Constitution is rendered expedient at the present juncture by the nature of objections which have been urged against the system, or by the degree of inquietude which has given birth to them. Instead of undertaking particular recommendations on this subject, in which I could be guided by no lights derived from official opportunities, I shall again give way to my entire confidence in your discernment and pursuit of the public good; for I assure myself that whilst you carefully avoid every alteration which might endanger the benefits of an united and effective government, or which ought to await the future lessons of experience, a reverence for the characteristic rights of freemen and a regard for the public harmony will sufficiently influence your deliberations on the question how far the former can be impregnably fortified or the latter be safely and advantageously promoted. \"                                                                                                                                                                                                                                                                                                                                                                                                                                                                                                                                                                                                                                                                                                                                                                                                                                                                                                                                                                                                                                                                                                                                                                             \n",
       "[6] \"To the foregoing observations I have one to add, which will be most properly addressed to the House of Representatives. It concerns myself, and will therefore be as brief as possible. When I was first honored with a call into the service of my country, then on the eve of an arduous struggle for its liberties, the light in which I contemplated my duty required that I should renounce every pecuniary compensation. From this resolution I have in no instance departed; and being still under the impressions which produced it, I must decline as inapplicable to myself any share in the personal emoluments which may be indispensably included in a permanent provision for the executive department, and must accordingly pray that the pecuniary estimates for the station in which I am placed may during my continuance in it be limited to such actual expenditures as the public good may be thought to require. \"                                                                                                                                                                                                                                                                                                                                                                                                                                                                                                                                                                                                                                                                                                                                                                                                                                                                                                                                                                                                                                                                                                                                                                                                                                                                                                                                                \n",
       "[7] \"Having thus imparted to you my sentiments as they have been awakened by the occasion which brings us together, I shall take my present leave; but not without resorting once more to the benign Parent of the Human Race in humble supplication that, since He has been pleased to favor the American people with opportunities for deliberating in perfect tranquillity, and dispositions for deciding with unparalleled unanimity on a form of government for the security of their union and the advancement of their happiness, so His divine blessing may be equally conspicuous in the enlarged views, the temperate consultations, and the wise measures on which the success of this Government must depend. \"                                                                                                                                                                                                                                                                                                                                                                                                                                                                                                                                                                                                                                                                                                                                                                                                                                                                                                                                                                                                                                                                                                                                                                                                                                                                                                                                                                                                                                                                                                                                                                  "
      ]
     },
     "metadata": {},
     "output_type": "display_data"
    }
   ],
   "source": [
    "# fuction to scrap the addresses \n",
    "\n",
    "get_inaugrations <- function(url){\n",
    "    test <- try(url %>% read_html(), silent = TRUE)\n",
    "    if(\"try-error\" %in% class(test)){\n",
    "        return(\"There was an error reading retrieving the content from the url specified\")\n",
    "    }else\n",
    "        url %>% read_html() %>%\n",
    "            html_nodes(\"p\") %>%\n",
    "            html_text() -> address\n",
    "    \n",
    "    return(unlist(address)) \n",
    "}\n",
    "    \n",
    "inaugaral_full_speech <- inaugral_data_tidy %>%\n",
    "                            mutate(addresses_text = (map(url,get_inaugrations)))\n",
    "\n",
    "inaugaral_full_speech$address[[1]]"
   ]
  },
  {
   "cell_type": "markdown",
   "metadata": {},
   "source": [
    "Finally we are done. So I promised before to tell you about a an interesting fact. Actually I didn't find this. Samantha, the lady who gave the presentation at he r-ladies meetup I attended spoke about it. The interesting fact is that the president that gave the longest speech died from pneumonia dus to standing out in the cold for too long without a coat\n",
    "\n",
    "So let find out who it was."
   ]
  },
  {
   "cell_type": "code",
   "execution_count": 66,
   "metadata": {
    "collapsed": false
   },
   "outputs": [
    {
     "data": {
      "text/html": [
       "<table>\n",
       "<thead><tr><th></th><th scope=col>President</th><th scope=col>year</th><th scope=col>word</th></tr></thead>\n",
       "<tbody>\n",
       "\t<tr><th scope=row>1</th><td>George Washington</td><td>1789             </td><td>fellow           </td></tr>\n",
       "\t<tr><th scope=row>1.1</th><td>George Washington</td><td>1789             </td><td>citizens         </td></tr>\n",
       "\t<tr><th scope=row>1.2</th><td>George Washington</td><td>1789             </td><td>of               </td></tr>\n",
       "\t<tr><th scope=row>1.3</th><td>George Washington</td><td>1789             </td><td>the              </td></tr>\n",
       "\t<tr><th scope=row>1.4</th><td>George Washington</td><td>1789             </td><td>senate           </td></tr>\n",
       "\t<tr><th scope=row>1.5</th><td>George Washington</td><td>1789             </td><td>and              </td></tr>\n",
       "</tbody>\n",
       "</table>\n"
      ],
      "text/latex": [
       "\\begin{tabular}{r|lll}\n",
       "  & President & year & word\\\\\n",
       "\\hline\n",
       "\t1 & George Washington & 1789              & fellow           \\\\\n",
       "\t1.1 & George Washington & 1789              & citizens         \\\\\n",
       "\t1.2 & George Washington & 1789              & of               \\\\\n",
       "\t1.3 & George Washington & 1789              & the              \\\\\n",
       "\t1.4 & George Washington & 1789              & senate           \\\\\n",
       "\t1.5 & George Washington & 1789              & and              \\\\\n",
       "\\end{tabular}\n"
      ],
      "text/markdown": [
       "\n",
       "| <!--/--> | President | year | word | \n",
       "|---|---|---|---|---|---|\n",
       "| 1 | George Washington | 1789              | fellow            | \n",
       "| 1.1 | George Washington | 1789              | citizens          | \n",
       "| 1.2 | George Washington | 1789              | of                | \n",
       "| 1.3 | George Washington | 1789              | the               | \n",
       "| 1.4 | George Washington | 1789              | senate            | \n",
       "| 1.5 | George Washington | 1789              | and               | \n",
       "\n",
       "\n"
      ],
      "text/plain": [
       "    President         year word    \n",
       "1   George Washington 1789 fellow  \n",
       "1.1 George Washington 1789 citizens\n",
       "1.2 George Washington 1789 of      \n",
       "1.3 George Washington 1789 the     \n",
       "1.4 George Washington 1789 senate  \n",
       "1.5 George Washington 1789 and     "
      ]
     },
     "metadata": {},
     "output_type": "display_data"
    }
   ],
   "source": [
    "inaugaral_full_speech %>% \n",
    "      select(-url,-term) %>% \n",
    "      unnest() %>% \n",
    "      unnest_tokens(word, addresses_text) -> presidential_words\n",
    "      head(presidential_words)"
   ]
  },
  {
   "cell_type": "code",
   "execution_count": 120,
   "metadata": {
    "collapsed": false,
    "scrolled": true
   },
   "outputs": [
    {
     "data": {
      "text/html": [
       "<table>\n",
       "<thead><tr><th scope=col>President</th><th scope=col>year</th><th scope=col>num_words</th></tr></thead>\n",
       "<tbody>\n",
       "\t<tr><td>William Henry Harrison</td><td>1841                  </td><td>8459                  </td></tr>\n",
       "\t<tr><td>William Howard Taft   </td><td>1909                  </td><td>5440                  </td></tr>\n",
       "\t<tr><td>James Polk            </td><td>1845                  </td><td>4813                  </td></tr>\n",
       "\t<tr><td>James Monroe          </td><td>1821                  </td><td>4473                  </td></tr>\n",
       "\t<tr><td>Grover Cleveland      </td><td>1893                  </td><td>4403                  </td></tr>\n",
       "\t<tr><td>William McKinley      </td><td>1897                  </td><td>3977                  </td></tr>\n",
       "</tbody>\n",
       "</table>\n"
      ],
      "text/latex": [
       "\\begin{tabular}{r|lll}\n",
       " President & year & num\\_words\\\\\n",
       "\\hline\n",
       "\t William Henry Harrison & 1841                   & 8459                  \\\\\n",
       "\t William Howard Taft    & 1909                   & 5440                  \\\\\n",
       "\t James Polk             & 1845                   & 4813                  \\\\\n",
       "\t James Monroe           & 1821                   & 4473                  \\\\\n",
       "\t Grover Cleveland       & 1893                   & 4403                  \\\\\n",
       "\t William McKinley       & 1897                   & 3977                  \\\\\n",
       "\\end{tabular}\n"
      ],
      "text/markdown": [
       "\n",
       "President | year | num_words | \n",
       "|---|---|---|---|---|---|\n",
       "| William Henry Harrison | 1841                   | 8459                   | \n",
       "| William Howard Taft    | 1909                   | 5440                   | \n",
       "| James Polk             | 1845                   | 4813                   | \n",
       "| James Monroe           | 1821                   | 4473                   | \n",
       "| Grover Cleveland       | 1893                   | 4403                   | \n",
       "| William McKinley       | 1897                   | 3977                   | \n",
       "\n",
       "\n"
      ],
      "text/plain": [
       "  President              year num_words\n",
       "1 William Henry Harrison 1841 8459     \n",
       "2 William Howard Taft    1909 5440     \n",
       "3 James Polk             1845 4813     \n",
       "4 James Monroe           1821 4473     \n",
       "5 Grover Cleveland       1893 4403     \n",
       "6 William McKinley       1897 3977     "
      ]
     },
     "metadata": {},
     "output_type": "display_data"
    },
    {
     "data": {
      "text/html": [
       "'William Henry Harrison'"
      ],
      "text/latex": [
       "'William Henry Harrison'"
      ],
      "text/markdown": [
       "'William Henry Harrison'"
      ],
      "text/plain": [
       "[1] \"William Henry Harrison\""
      ]
     },
     "metadata": {},
     "output_type": "display_data"
    }
   ],
   "source": [
    "presidential_words %>% \n",
    "  group_by(President,year) %>% \n",
    "  summarize(num_words = n()) %>%\n",
    "  arrange(desc(num_words)) -> presidential_wordtotals\n",
    "\n",
    "head(presidential_wordtotals)\n",
    "\n",
    "#print the name of the president with heigest no of words\n",
    "presidential_wordtotals$President[presidential_wordtotals$num_words == max(presidential_wordtotals$num_words)]"
   ]
  },
  {
   "cell_type": "code",
   "execution_count": 122,
   "metadata": {
    "collapsed": false,
    "scrolled": false
   },
   "outputs": [
    {
     "data": {},
     "metadata": {},
     "output_type": "display_data"
    },
    {
     "data": {
      "image/png": "[encoded data removed]",
      "text/plain": [
       "plot without title"
      ]
     },
     "metadata": {},
     "output_type": "display_data"
    }
   ],
   "source": [
    "ggplot(data = presidential_wordtotals) + \n",
    "  geom_bar(mapping = aes(x = reorder(year, num_words), y = num_words), stat = \"identity\", fill = 'blue', color = 'white') + \n",
    " geom_label_repel(aes(x = reorder(year, num_words), y = num_words, label = President), size = 3.0)"
   ]
  }
 ],
 "metadata": {
  "anaconda-cloud": {},
  "kernelspec": {
   "display_name": "R",
   "language": "R",
   "name": "ir"
  },
  "language_info": {
   "codemirror_mode": "r",
   "file_extension": ".r",
   "mimetype": "text/x-r-source",
   "name": "R",
   "pygments_lexer": "r",
   "version": "3.3.2"
  }
 },
 "nbformat": 4,
 "nbformat_minor": 1
}
